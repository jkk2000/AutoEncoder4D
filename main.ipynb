{
 "cells": [
  {
   "cell_type": "markdown",
   "id": "decreased-marketplace",
   "metadata": {},
   "source": [
    "# Evaluation Task"
   ]
  },
  {
   "cell_type": "markdown",
   "id": "excess-fifteen",
   "metadata": {},
   "source": [
    "## Import Extracted Data"
   ]
  },
  {
   "cell_type": "code",
   "execution_count": 1,
   "id": "provincial-quest",
   "metadata": {},
   "outputs": [],
   "source": [
    "import os\n",
    "save_dir = \"FinalPlots\"\n",
    "if not os.path.exists(save_dir):\n",
    "    os.makedirs(save_dir)"
   ]
  },
  {
   "cell_type": "code",
   "execution_count": 2,
   "id": "elementary-occurrence",
   "metadata": {},
   "outputs": [],
   "source": [
    "import pandas as pd\n",
    "import numpy as np\n",
    "from scipy import stats\n",
    "\n",
    "dataset_path = \"/home/jason/AutoEncoder/extracted_input.csv\"\n",
    "\n",
    "dataset = pd.read_csv(dataset_path)"
   ]
  },
  {
   "cell_type": "code",
   "execution_count": 3,
   "id": "simple-graphic",
   "metadata": {},
   "outputs": [
    {
     "data": {
      "text/html": [
       "<div>\n",
       "<style scoped>\n",
       "    .dataframe tbody tr th:only-of-type {\n",
       "        vertical-align: middle;\n",
       "    }\n",
       "\n",
       "    .dataframe tbody tr th {\n",
       "        vertical-align: top;\n",
       "    }\n",
       "\n",
       "    .dataframe thead th {\n",
       "        text-align: right;\n",
       "    }\n",
       "</style>\n",
       "<table border=\"1\" class=\"dataframe\">\n",
       "  <thead>\n",
       "    <tr style=\"text-align: right;\">\n",
       "      <th></th>\n",
       "      <th>E</th>\n",
       "      <th>pt</th>\n",
       "      <th>eta</th>\n",
       "      <th>phi</th>\n",
       "    </tr>\n",
       "  </thead>\n",
       "  <tbody>\n",
       "    <tr>\n",
       "      <th>0</th>\n",
       "      <td>258722.0</td>\n",
       "      <td>243675.0</td>\n",
       "      <td>0.328962</td>\n",
       "      <td>2.25014</td>\n",
       "    </tr>\n",
       "    <tr>\n",
       "      <th>1</th>\n",
       "      <td>520092.0</td>\n",
       "      <td>108590.0</td>\n",
       "      <td>-2.247300</td>\n",
       "      <td>-1.85679</td>\n",
       "    </tr>\n",
       "    <tr>\n",
       "      <th>2</th>\n",
       "      <td>383024.0</td>\n",
       "      <td>88405.6</td>\n",
       "      <td>2.145160</td>\n",
       "      <td>-1.95635</td>\n",
       "    </tr>\n",
       "    <tr>\n",
       "      <th>3</th>\n",
       "      <td>39507.6</td>\n",
       "      <td>35365.1</td>\n",
       "      <td>0.470460</td>\n",
       "      <td>-1.16445</td>\n",
       "    </tr>\n",
       "    <tr>\n",
       "      <th>4</th>\n",
       "      <td>225430.0</td>\n",
       "      <td>26878.2</td>\n",
       "      <td>-2.816080</td>\n",
       "      <td>-2.25938</td>\n",
       "    </tr>\n",
       "  </tbody>\n",
       "</table>\n",
       "</div>"
      ],
      "text/plain": [
       "          E        pt       eta      phi\n",
       "0  258722.0  243675.0  0.328962  2.25014\n",
       "1  520092.0  108590.0 -2.247300 -1.85679\n",
       "2  383024.0   88405.6  2.145160 -1.95635\n",
       "3   39507.6   35365.1  0.470460 -1.16445\n",
       "4  225430.0   26878.2 -2.816080 -2.25938"
      ]
     },
     "execution_count": 3,
     "metadata": {},
     "output_type": "execute_result"
    }
   ],
   "source": [
    "dataset.head()"
   ]
  },
  {
   "cell_type": "markdown",
   "id": "regulation-recipe",
   "metadata": {},
   "source": [
    "## Split Data\n",
    "Train and test set are obtained from the dataset in a ratio of 80:20"
   ]
  },
  {
   "cell_type": "code",
   "execution_count": 12,
   "id": "progressive-appliance",
   "metadata": {},
   "outputs": [],
   "source": [
    "from sklearn.model_selection import train_test_split\n",
    "\n",
    "train, test = train_test_split(dataset.copy(), test_size=0.2, random_state=45)\n",
    "# dataset[:18000].copy(), dataset[18000:].copy(), dataset[:18000].copy(), dataset[18000:].copy()\n",
    "\n",
    "# indices are reset so that reassigning values of boxcox transformation works\n",
    "index = pd.Series([i for i in range(0, len(test))])\n",
    "test = test.set_index(index)\n",
    "\n",
    "index = pd.Series([i for i in range(0, len(train))])\n",
    "train = train.set_index(index)"
   ]
  },
  {
   "cell_type": "code",
   "execution_count": 5,
   "id": "respiratory-submission",
   "metadata": {},
   "outputs": [
    {
     "data": {
      "image/png": "[encoded data removed]",
      "text/plain": [
       "<Figure size 432x288 with 1 Axes>"
      ]
     },
     "metadata": {
      "needs_background": "light"
     },
     "output_type": "display_data"
    },
    {
     "data": {
      "image/png": "[encoded data removed]",
      "text/plain": [
       "<Figure size 432x288 with 1 Axes>"
      ]
     },
     "metadata": {
      "needs_background": "light"
     },
     "output_type": "display_data"
    },
    {
     "data": {
      "image/png": "[encoded data removed]",
      "text/plain": [
       "<Figure size 432x288 with 1 Axes>"
      ]
     },
     "metadata": {
      "needs_background": "light"
     },
     "output_type": "display_data"
    },
    {
     "data": {
      "image/png": "[encoded data removed]",
      "text/plain": [
       "<Figure size 432x288 with 1 Axes>"
      ]
     },
     "metadata": {
      "needs_background": "light"
     },
     "output_type": "display_data"
    }
   ],
   "source": [
    "import matplotlib.pyplot as plt\n",
    "\n",
    "unit_list = ['[GeV]', '[rad]', '[rad]', '[GeV]']\n",
    "variable_list = [r'$p_T$', r'$\\eta$', r'$\\phi$', r'$E$']\n",
    "\n",
    "branches=[\"pt\",\"eta\",\"phi\",\"E\"]\n",
    "\n",
    "n_bins = 100\n",
    "\n",
    "for kk in range(0,4):\n",
    "    n_hist_data, bin_edges, _ = plt.hist(train[branches[kk]], color='gray', label='Input', alpha=1, bins=n_bins)\n",
    "    plt.xlabel(xlabel=variable_list[kk] + ' ' + unit_list[kk])\n",
    "    plt.ylabel('# of events')\n",
    "    plt.title(\"Plot of \" + variable_list[kk])\n",
    "    plt.savefig(os.path.join(save_dir, \"UnNormalised_\"+branches[kk]),dpi=300)\n",
    "    plt.show()"
   ]
  },
  {
   "cell_type": "markdown",
   "id": "previous-newport",
   "metadata": {},
   "source": [
    "## Custom Normalisation\n",
    "We normalise the data and I noticed boxcox seems to work better than log10 for \"E\" and \"pt\""
   ]
  },
  {
   "cell_type": "code",
   "execution_count": 13,
   "id": "infrared-cuisine",
   "metadata": {},
   "outputs": [
    {
     "data": {
      "text/html": [
       "<div>\n",
       "<style scoped>\n",
       "    .dataframe tbody tr th:only-of-type {\n",
       "        vertical-align: middle;\n",
       "    }\n",
       "\n",
       "    .dataframe tbody tr th {\n",
       "        vertical-align: top;\n",
       "    }\n",
       "\n",
       "    .dataframe thead th {\n",
       "        text-align: right;\n",
       "    }\n",
       "</style>\n",
       "<table border=\"1\" class=\"dataframe\">\n",
       "  <thead>\n",
       "    <tr style=\"text-align: right;\">\n",
       "      <th></th>\n",
       "      <th>E</th>\n",
       "      <th>pt</th>\n",
       "      <th>eta</th>\n",
       "      <th>phi</th>\n",
       "    </tr>\n",
       "  </thead>\n",
       "  <tbody>\n",
       "    <tr>\n",
       "      <th>0</th>\n",
       "      <td>0.112126</td>\n",
       "      <td>-0.112356</td>\n",
       "      <td>0.429768</td>\n",
       "      <td>0.056841</td>\n",
       "    </tr>\n",
       "    <tr>\n",
       "      <th>1</th>\n",
       "      <td>0.210463</td>\n",
       "      <td>0.275786</td>\n",
       "      <td>0.212474</td>\n",
       "      <td>0.904687</td>\n",
       "    </tr>\n",
       "    <tr>\n",
       "      <th>2</th>\n",
       "      <td>0.277597</td>\n",
       "      <td>0.411763</td>\n",
       "      <td>0.124140</td>\n",
       "      <td>0.966567</td>\n",
       "    </tr>\n",
       "    <tr>\n",
       "      <th>3</th>\n",
       "      <td>0.374858</td>\n",
       "      <td>-0.493136</td>\n",
       "      <td>0.784006</td>\n",
       "      <td>0.921080</td>\n",
       "    </tr>\n",
       "    <tr>\n",
       "      <th>4</th>\n",
       "      <td>0.238748</td>\n",
       "      <td>0.297086</td>\n",
       "      <td>0.213176</td>\n",
       "      <td>-0.954223</td>\n",
       "    </tr>\n",
       "  </tbody>\n",
       "</table>\n",
       "</div>"
      ],
      "text/plain": [
       "          E        pt       eta       phi\n",
       "0  0.112126 -0.112356  0.429768  0.056841\n",
       "1  0.210463  0.275786  0.212474  0.904687\n",
       "2  0.277597  0.411763  0.124140  0.966567\n",
       "3  0.374858 -0.493136  0.784006  0.921080\n",
       "4  0.238748  0.297086  0.213176 -0.954223"
      ]
     },
     "execution_count": 13,
     "metadata": {},
     "output_type": "execute_result"
    }
   ],
   "source": [
    "\n",
    "train[\"eta\"] = train[\"eta\"]/5\n",
    "train[\"phi\"] = train[\"phi\"]/3\n",
    "\n",
    "test[\"eta\"] = test[\"eta\"]/5\n",
    "test[\"phi\"] = test[\"phi\"]/3\n",
    "\n",
    "\n",
    "# train[\"E\"] = np.log10(train[\"E\"]/1000)\n",
    "# train[\"pt\"] = np.log10(train[\"pt\"]/1000)\n",
    "# # print(stats.shapiro(train[\"E\"]))\n",
    "# # print(stats.shapiro(train[\"pt\"]))\n",
    "\n",
    "# test[\"E\"] = np.log10(test[\"E\"]/1000)\n",
    "# test[\"pt\"] = np.log10(test[\"pt\"]/1000)\n",
    "# dataset[\"pt\"] = np.sqrt(dataset[\"pt\"])\n",
    "# dataset[\"E\"] = np.cbrt(dataset[\"E\"])\n",
    "\n",
    "# dataset[\"pt\"] = np.log10(1+dataset[\"pt\"])\n",
    "# dataset[\"E\"] = np.log10(1+dataset[\"E\"])\n",
    "\n",
    "# since data is right skewed, boxcox transformation works best\n",
    "# we first apply the transformation to the train and then apply it to the\n",
    "#    test dataset so that we dont leak information about the test data\n",
    "a, maxlog1 = stats.boxcox(train[\"pt\"].to_numpy(dtype=np.float64))\n",
    "b, maxlog2 = stats.boxcox(train[\"E\"].to_numpy(dtype=np.float64))\n",
    "\n",
    "b = b/10\n",
    "mean1 = a.mean()\n",
    "mean2 = b.mean()\n",
    "\n",
    "train[\"pt\"] = pd.DataFrame(a-mean1)\n",
    "train[\"E\"] = pd.DataFrame(b-mean2)\n",
    "\n",
    "a = stats.boxcox(test[\"pt\"].to_numpy(dtype=np.float64), maxlog1)\n",
    "b = stats.boxcox(test[\"E\"].to_numpy(dtype=np.float64), maxlog2)/10\n",
    "    \n",
    "test[\"pt\"] = pd.DataFrame(a-mean1)\n",
    "test[\"E\"] = pd.DataFrame(b-mean2)\n",
    "\n",
    "    \n",
    "train.head()"
   ]
  },
  {
   "cell_type": "markdown",
   "id": "equal-facing",
   "metadata": {},
   "source": [
    "## Plotting Normalised data"
   ]
  },
  {
   "cell_type": "code",
   "execution_count": 7,
   "id": "paperback-truth",
   "metadata": {},
   "outputs": [
    {
     "data": {
      "image/png": "[encoded data removed]",
      "text/plain": [
       "<Figure size 432x288 with 1 Axes>"
      ]
     },
     "metadata": {
      "needs_background": "light"
     },
     "output_type": "display_data"
    },
    {
     "data": {
      "image/png": "[encoded data removed]",
      "text/plain": [
       "<Figure size 432x288 with 1 Axes>"
      ]
     },
     "metadata": {
      "needs_background": "light"
     },
     "output_type": "display_data"
    },
    {
     "data": {
      "image/png": "[encoded data removed]",
      "text/plain": [
       "<Figure size 432x288 with 1 Axes>"
      ]
     },
     "metadata": {
      "needs_background": "light"
     },
     "output_type": "display_data"
    },
    {
     "data": {
      "image/png": "[encoded data removed]",
      "text/plain": [
       "<Figure size 432x288 with 1 Axes>"
      ]
     },
     "metadata": {
      "needs_background": "light"
     },
     "output_type": "display_data"
    }
   ],
   "source": [
    "import matplotlib.pyplot as plt\n",
    "\n",
    "#train = custom_unnormalize(train)\n",
    "unit_list = ['[boxcox(GeV)]', '[rad/5]', '[rad/3]', '[boxcox(GeV)]']\n",
    "variable_list = [r'$p_T$', r'$\\eta$', r'$\\phi$', r'$E$']\n",
    "\n",
    "branches=[\"pt\",\"eta\",\"phi\",\"E\"]\n",
    "\n",
    "n_bins = 100\n",
    "\n",
    "for kk in range(0,4):\n",
    "    n_hist_data, bin_edges, _ = plt.hist(train[branches[kk]], color='gray', label='Input', alpha=1, bins=n_bins)\n",
    "    plt.xlabel(xlabel=variable_list[kk] + ' ' + unit_list[kk])\n",
    "    plt.ylabel('# of events')\n",
    "    plt.title(\"Plot of \" + branches[kk])\n",
    "    plt.savefig(os.path.join(save_dir, \"Normalised_\"+branches[kk]),dpi=300)\n",
    "    plt.show()"
   ]
  },
  {
   "cell_type": "markdown",
   "id": "clinical-lighter",
   "metadata": {},
   "source": [
    "## Loading data into Pytorch Dataloader"
   ]
  },
  {
   "cell_type": "code",
   "execution_count": 43,
   "id": "cloudy-jones",
   "metadata": {},
   "outputs": [
    {
     "name": "stdout",
     "output_type": "stream",
     "text": [
      "              E        pt       eta       phi\n",
      "0      0.112126 -0.112356  0.429768  0.056841\n",
      "1      0.210463  0.275786  0.212474  0.904687\n",
      "2      0.277597  0.411763  0.124140  0.966567\n",
      "3      0.374858 -0.493136  0.784006  0.921080\n",
      "4      0.238748  0.297086  0.213176 -0.954223\n",
      "...         ...       ...       ...       ...\n",
      "18123  0.398207  0.478393 -0.144510 -0.459873\n",
      "18124  0.612202 -0.223689  0.746482 -0.604360\n",
      "18125  0.305874  0.381490  0.178883 -0.056376\n",
      "18126  0.145595 -0.021625 -0.390404  0.488260\n",
      "18127  0.364775  0.403387 -0.200444  0.445960\n",
      "\n",
      "[18128 rows x 4 columns]\n"
     ]
    }
   ],
   "source": [
    "import torch\n",
    "import torch.nn as nn\n",
    "import torch.optim as optim\n",
    "import torch.utils.data\n",
    "from torch.autograd import Variable\n",
    "\n",
    "from torch.utils.data import TensorDataset\n",
    "from torch.utils.data import DataLoader\n",
    "\n",
    "from fastai import learner\n",
    "from fastai.data import core\n",
    "\n",
    "# creating a copy of the data for X and y\n",
    "# X and y are the same since the model is an autoencoder\n",
    "X_test, y_test = test.copy(), test.copy()\n",
    "X_train, y_train = train.copy(), train.copy()\n",
    "\n",
    "print(train)\n",
    "\n",
    "# Constructs a tensor object of the data and wraps them in a TensorDataset object.\n",
    "train_ds = TensorDataset(torch.tensor(X_train.values, dtype=torch.float), torch.tensor(y_train.values, dtype=torch.float))\n",
    "valid_ds = TensorDataset(torch.tensor(X_test.values, dtype=torch.float), torch.tensor(y_test.values, dtype=torch.float))"
   ]
  },
  {
   "cell_type": "code",
   "execution_count": 44,
   "id": "comparative-function",
   "metadata": {},
   "outputs": [],
   "source": [
    "\n",
    "bs = 256\n",
    "\n",
    "# Converts the TensorDataset into a DataLoader object and combines into one DataLoaders object (a basic wrapper\n",
    "# around several DataLoader objects). \n",
    "train_dl = DataLoader(train_ds, batch_size=bs, shuffle=True)\n",
    "valid_dl = DataLoader(valid_ds, batch_size=bs * 2)\n",
    "dls = core.DataLoaders(train_dl, valid_dl)"
   ]
  },
  {
   "cell_type": "markdown",
   "id": "biological-norman",
   "metadata": {},
   "source": [
    "## Creating a Tanh model with Batch Normalisation after each layer\n",
    "It was seen that Tanh varient with a low MSE and low mean residual reconstruction error"
   ]
  },
  {
   "cell_type": "code",
   "execution_count": 45,
   "id": "imported-things",
   "metadata": {},
   "outputs": [
    {
     "data": {
      "text/plain": [
       "AE_3D_200_Tanh(\n",
       "  (en1): Linear(in_features=4, out_features=200, bias=True)\n",
       "  (ebn1): BatchNorm1d(200, eps=1e-05, momentum=0.1, affine=True, track_running_stats=True)\n",
       "  (en2): Linear(in_features=200, out_features=100, bias=True)\n",
       "  (ebn2): BatchNorm1d(100, eps=1e-05, momentum=0.1, affine=True, track_running_stats=True)\n",
       "  (en3): Linear(in_features=100, out_features=50, bias=True)\n",
       "  (ebn3): BatchNorm1d(50, eps=1e-05, momentum=0.1, affine=True, track_running_stats=True)\n",
       "  (en4): Linear(in_features=50, out_features=3, bias=True)\n",
       "  (dbn0): BatchNorm1d(3, eps=1e-05, momentum=0.1, affine=True, track_running_stats=True)\n",
       "  (de1): Linear(in_features=3, out_features=50, bias=True)\n",
       "  (dbn1): BatchNorm1d(50, eps=1e-05, momentum=0.1, affine=True, track_running_stats=True)\n",
       "  (de2): Linear(in_features=50, out_features=100, bias=True)\n",
       "  (dbn2): BatchNorm1d(100, eps=1e-05, momentum=0.1, affine=True, track_running_stats=True)\n",
       "  (de3): Linear(in_features=100, out_features=200, bias=True)\n",
       "  (dbn3): BatchNorm1d(200, eps=1e-05, momentum=0.1, affine=True, track_running_stats=True)\n",
       "  (de4): Linear(in_features=200, out_features=4, bias=True)\n",
       "  (Acti): Tanh()\n",
       ")"
      ]
     },
     "execution_count": 45,
     "metadata": {},
     "output_type": "execute_result"
    }
   ],
   "source": [
    "\n",
    "class AE_3D_200_Tanh(nn.Module):\n",
    "    def __init__(self, n_features=4):\n",
    "        super(AE_3D_200_Tanh, self).__init__()\n",
    "        self.en1 = nn.Linear(n_features, 200)\n",
    "        self.ebn1 = nn.BatchNorm1d(200)\n",
    "        self.en2 = nn.Linear(200, 100)\n",
    "        self.ebn2 = nn.BatchNorm1d(100)\n",
    "        self.en3 = nn.Linear(100, 50)\n",
    "        self.ebn3 = nn.BatchNorm1d(50)\n",
    "        self.en4 = nn.Linear(50, 3)\n",
    "        self.dbn0 = nn.BatchNorm1d(3)\n",
    "        self.de1 = nn.Linear(3, 50)\n",
    "        self.dbn1 = nn.BatchNorm1d(50)\n",
    "        self.de2 = nn.Linear(50, 100)\n",
    "        self.dbn2 = nn.BatchNorm1d(100)\n",
    "        self.de3 = nn.Linear(100, 200)\n",
    "        self.dbn3 = nn.BatchNorm1d(200)\n",
    "        self.de4 = nn.Linear(200, n_features)\n",
    "        self.Acti = nn.Tanh()\n",
    "\n",
    "    def encode(self, x):\n",
    "        x = self.en1(x)\n",
    "        x = self.Acti(x)\n",
    "        #x = self.ebn1(x)\n",
    "        x = self.en2(x)\n",
    "        x = self.Acti(x)\n",
    "        #x = self.ebn2(x)\n",
    "        x = self.en3(x)\n",
    "        x = self.Acti(x)\n",
    "        #x = self.ebn3(x)\n",
    "        return self.en4(x)\n",
    "\n",
    "    def decode(self, x):\n",
    "        x = self.Acti(x)\n",
    "        #x = self.dbn0(x)\n",
    "        x = self.de1(x)\n",
    "        x = self.Acti(x)\n",
    "        #x = self.dbn1(x)\n",
    "        x = self.de2(x)\n",
    "        x = self.Acti(x)\n",
    "        #x = self.dbn2(x)\n",
    "        x = self.de3(x)\n",
    "        x = self.Acti(x)\n",
    "        #x = self.dbn3(x)\n",
    "        return self.de4(x)\n",
    "\n",
    "    def forward(self, x):\n",
    "        z = self.encode(x)\n",
    "        return self.decode(z)\n",
    "\n",
    "    def describe(self):\n",
    "        return 'in-200-200-20-3-20-200-200-out'\n",
    "\n",
    "def init_weights(m):\n",
    "    if type(m) == nn.Linear:\n",
    "        torch.nn.init.xavier_normal_(m.weight)\n",
    "        m.bias.data.fill_(0.01) \n",
    "    \n",
    "model = AE_3D_200_Tanh()\n",
    "model.to('cpu')\n",
    "#model.apply(init_weights)"
   ]
  },
  {
   "cell_type": "code",
   "execution_count": 46,
   "id": "wanted-guard",
   "metadata": {},
   "outputs": [],
   "source": [
    "from fastai.metrics import mse\n",
    "from fastai.callback.tracker import EarlyStoppingCallback\n",
    "loss_func = nn.MSELoss()\n",
    "\n",
    "#bn_wd = False  # Don't use weight decay for batchnorm layers\n",
    "#true_wd = True  # weight decay will be used for all optimizers\n",
    "wd = 1e-6\n",
    "recorder = learner.Recorder()\n",
    "learn = learner.Learner(dls, model=model, wd=wd, loss_func=loss_func, cbs=[recorder])"
   ]
  },
  {
   "cell_type": "markdown",
   "id": "protective-guitar",
   "metadata": {},
   "source": [
    "## 1cycle training\n",
    "The 1cycle policy allows to us train the model very quickly, a phenomenon termed superconvergence."
   ]
  },
  {
   "cell_type": "code",
   "execution_count": 47,
   "id": "existing-chosen",
   "metadata": {},
   "outputs": [
    {
     "data": {
      "text/html": [],
      "text/plain": [
       "<IPython.core.display.HTML object>"
      ]
     },
     "metadata": {},
     "output_type": "display_data"
    },
    {
     "name": "stdout",
     "output_type": "stream",
     "text": [
      "Learning rate with the minimum loss: 0.0033113110810518267\n",
      "Learning rate with the steepest gradient: 0.007585775572806597\n"
     ]
    },
    {
     "data": {
      "image/png": "[encoded data removed]",
      "text/plain": [
       "<Figure size 432x288 with 1 Axes>"
      ]
     },
     "metadata": {
      "needs_background": "light"
     },
     "output_type": "display_data"
    }
   ],
   "source": [
    "from fastai.callback import schedule\n",
    "\n",
    "# to use 1cycle callback from fastai we need to find the optimum learning rate which we can find using lr_finder()\n",
    "lr_min, lr_steep = learn.lr_find()\n",
    "\n",
    "print('Learning rate with the minimum loss:', lr_min)\n",
    "print('Learning rate with the steepest gradient:', lr_steep)"
   ]
  },
  {
   "cell_type": "code",
   "execution_count": 51,
   "id": "confidential-freedom",
   "metadata": {},
   "outputs": [
    {
     "data": {
      "text/html": [
       "<table border=\"1\" class=\"dataframe\">\n",
       "  <thead>\n",
       "    <tr style=\"text-align: left;\">\n",
       "      <th>epoch</th>\n",
       "      <th>train_loss</th>\n",
       "      <th>valid_loss</th>\n",
       "      <th>time</th>\n",
       "    </tr>\n",
       "  </thead>\n",
       "  <tbody>\n",
       "    <tr>\n",
       "      <td>0</td>\n",
       "      <td>0.111864</td>\n",
       "      <td>0.089967</td>\n",
       "      <td>00:00</td>\n",
       "    </tr>\n",
       "    <tr>\n",
       "      <td>0</td>\n",
       "      <td>0.111864</td>\n",
       "      <td>0.089967</td>\n",
       "      <td>00:00</td>\n",
       "    </tr>\n",
       "    <tr>\n",
       "      <td>1</td>\n",
       "      <td>0.053053</td>\n",
       "      <td>0.014384</td>\n",
       "      <td>00:00</td>\n",
       "    </tr>\n",
       "    <tr>\n",
       "      <td>1</td>\n",
       "      <td>0.053053</td>\n",
       "      <td>0.014384</td>\n",
       "      <td>00:00</td>\n",
       "    </tr>\n",
       "    <tr>\n",
       "      <td>2</td>\n",
       "      <td>0.020848</td>\n",
       "      <td>0.010092</td>\n",
       "      <td>00:00</td>\n",
       "    </tr>\n",
       "    <tr>\n",
       "      <td>2</td>\n",
       "      <td>0.020848</td>\n",
       "      <td>0.010092</td>\n",
       "      <td>00:00</td>\n",
       "    </tr>\n",
       "    <tr>\n",
       "      <td>3</td>\n",
       "      <td>0.011871</td>\n",
       "      <td>0.008552</td>\n",
       "      <td>00:00</td>\n",
       "    </tr>\n",
       "    <tr>\n",
       "      <td>3</td>\n",
       "      <td>0.011871</td>\n",
       "      <td>0.008552</td>\n",
       "      <td>00:00</td>\n",
       "    </tr>\n",
       "    <tr>\n",
       "      <td>4</td>\n",
       "      <td>0.007238</td>\n",
       "      <td>0.002473</td>\n",
       "      <td>00:00</td>\n",
       "    </tr>\n",
       "    <tr>\n",
       "      <td>4</td>\n",
       "      <td>0.007238</td>\n",
       "      <td>0.002473</td>\n",
       "      <td>00:00</td>\n",
       "    </tr>\n",
       "    <tr>\n",
       "      <td>5</td>\n",
       "      <td>0.002908</td>\n",
       "      <td>0.002433</td>\n",
       "      <td>00:00</td>\n",
       "    </tr>\n",
       "    <tr>\n",
       "      <td>5</td>\n",
       "      <td>0.002908</td>\n",
       "      <td>0.002433</td>\n",
       "      <td>00:00</td>\n",
       "    </tr>\n",
       "    <tr>\n",
       "      <td>6</td>\n",
       "      <td>0.001450</td>\n",
       "      <td>0.000763</td>\n",
       "      <td>00:00</td>\n",
       "    </tr>\n",
       "    <tr>\n",
       "      <td>6</td>\n",
       "      <td>0.001450</td>\n",
       "      <td>0.000763</td>\n",
       "      <td>00:00</td>\n",
       "    </tr>\n",
       "    <tr>\n",
       "      <td>7</td>\n",
       "      <td>0.001369</td>\n",
       "      <td>0.001078</td>\n",
       "      <td>00:00</td>\n",
       "    </tr>\n",
       "    <tr>\n",
       "      <td>7</td>\n",
       "      <td>0.001369</td>\n",
       "      <td>0.001078</td>\n",
       "      <td>00:00</td>\n",
       "    </tr>\n",
       "    <tr>\n",
       "      <td>8</td>\n",
       "      <td>0.001141</td>\n",
       "      <td>0.000941</td>\n",
       "      <td>00:00</td>\n",
       "    </tr>\n",
       "    <tr>\n",
       "      <td>8</td>\n",
       "      <td>0.001141</td>\n",
       "      <td>0.000941</td>\n",
       "      <td>00:00</td>\n",
       "    </tr>\n",
       "    <tr>\n",
       "      <td>9</td>\n",
       "      <td>0.001194</td>\n",
       "      <td>0.000638</td>\n",
       "      <td>00:00</td>\n",
       "    </tr>\n",
       "    <tr>\n",
       "      <td>9</td>\n",
       "      <td>0.001194</td>\n",
       "      <td>0.000638</td>\n",
       "      <td>00:00</td>\n",
       "    </tr>\n",
       "    <tr>\n",
       "      <td>10</td>\n",
       "      <td>0.001062</td>\n",
       "      <td>0.000430</td>\n",
       "      <td>00:00</td>\n",
       "    </tr>\n",
       "    <tr>\n",
       "      <td>10</td>\n",
       "      <td>0.001062</td>\n",
       "      <td>0.000430</td>\n",
       "      <td>00:00</td>\n",
       "    </tr>\n",
       "    <tr>\n",
       "      <td>11</td>\n",
       "      <td>0.001002</td>\n",
       "      <td>0.001087</td>\n",
       "      <td>00:00</td>\n",
       "    </tr>\n",
       "    <tr>\n",
       "      <td>11</td>\n",
       "      <td>0.001002</td>\n",
       "      <td>0.001087</td>\n",
       "      <td>00:00</td>\n",
       "    </tr>\n",
       "    <tr>\n",
       "      <td>12</td>\n",
       "      <td>0.001040</td>\n",
       "      <td>0.000463</td>\n",
       "      <td>00:00</td>\n",
       "    </tr>\n",
       "    <tr>\n",
       "      <td>12</td>\n",
       "      <td>0.001040</td>\n",
       "      <td>0.000463</td>\n",
       "      <td>00:00</td>\n",
       "    </tr>\n",
       "    <tr>\n",
       "      <td>13</td>\n",
       "      <td>0.000842</td>\n",
       "      <td>0.000321</td>\n",
       "      <td>00:00</td>\n",
       "    </tr>\n",
       "    <tr>\n",
       "      <td>13</td>\n",
       "      <td>0.000842</td>\n",
       "      <td>0.000321</td>\n",
       "      <td>00:00</td>\n",
       "    </tr>\n",
       "    <tr>\n",
       "      <td>14</td>\n",
       "      <td>0.000865</td>\n",
       "      <td>0.000612</td>\n",
       "      <td>00:00</td>\n",
       "    </tr>\n",
       "    <tr>\n",
       "      <td>14</td>\n",
       "      <td>0.000865</td>\n",
       "      <td>0.000612</td>\n",
       "      <td>00:00</td>\n",
       "    </tr>\n",
       "    <tr>\n",
       "      <td>15</td>\n",
       "      <td>0.000672</td>\n",
       "      <td>0.002898</td>\n",
       "      <td>00:00</td>\n",
       "    </tr>\n",
       "    <tr>\n",
       "      <td>15</td>\n",
       "      <td>0.000672</td>\n",
       "      <td>0.002898</td>\n",
       "      <td>00:00</td>\n",
       "    </tr>\n",
       "    <tr>\n",
       "      <td>16</td>\n",
       "      <td>0.000605</td>\n",
       "      <td>0.001238</td>\n",
       "      <td>00:00</td>\n",
       "    </tr>\n",
       "    <tr>\n",
       "      <td>16</td>\n",
       "      <td>0.000605</td>\n",
       "      <td>0.001238</td>\n",
       "      <td>00:00</td>\n",
       "    </tr>\n",
       "    <tr>\n",
       "      <td>17</td>\n",
       "      <td>0.000547</td>\n",
       "      <td>0.000382</td>\n",
       "      <td>00:00</td>\n",
       "    </tr>\n",
       "    <tr>\n",
       "      <td>17</td>\n",
       "      <td>0.000547</td>\n",
       "      <td>0.000382</td>\n",
       "      <td>00:00</td>\n",
       "    </tr>\n",
       "    <tr>\n",
       "      <td>18</td>\n",
       "      <td>0.000448</td>\n",
       "      <td>0.000114</td>\n",
       "      <td>00:00</td>\n",
       "    </tr>\n",
       "    <tr>\n",
       "      <td>18</td>\n",
       "      <td>0.000448</td>\n",
       "      <td>0.000114</td>\n",
       "      <td>00:00</td>\n",
       "    </tr>\n",
       "    <tr>\n",
       "      <td>19</td>\n",
       "      <td>0.000363</td>\n",
       "      <td>0.000510</td>\n",
       "      <td>00:00</td>\n",
       "    </tr>\n",
       "    <tr>\n",
       "      <td>19</td>\n",
       "      <td>0.000363</td>\n",
       "      <td>0.000510</td>\n",
       "      <td>00:00</td>\n",
       "    </tr>\n",
       "    <tr>\n",
       "      <td>20</td>\n",
       "      <td>0.000332</td>\n",
       "      <td>0.000589</td>\n",
       "      <td>00:00</td>\n",
       "    </tr>\n",
       "    <tr>\n",
       "      <td>20</td>\n",
       "      <td>0.000332</td>\n",
       "      <td>0.000589</td>\n",
       "      <td>00:00</td>\n",
       "    </tr>\n",
       "    <tr>\n",
       "      <td>21</td>\n",
       "      <td>0.000377</td>\n",
       "      <td>0.000200</td>\n",
       "      <td>00:00</td>\n",
       "    </tr>\n",
       "    <tr>\n",
       "      <td>21</td>\n",
       "      <td>0.000377</td>\n",
       "      <td>0.000200</td>\n",
       "      <td>00:00</td>\n",
       "    </tr>\n",
       "    <tr>\n",
       "      <td>22</td>\n",
       "      <td>0.000300</td>\n",
       "      <td>0.000136</td>\n",
       "      <td>00:00</td>\n",
       "    </tr>\n",
       "    <tr>\n",
       "      <td>22</td>\n",
       "      <td>0.000300</td>\n",
       "      <td>0.000136</td>\n",
       "      <td>00:00</td>\n",
       "    </tr>\n",
       "    <tr>\n",
       "      <td>23</td>\n",
       "      <td>0.000193</td>\n",
       "      <td>0.000073</td>\n",
       "      <td>00:00</td>\n",
       "    </tr>\n",
       "    <tr>\n",
       "      <td>23</td>\n",
       "      <td>0.000193</td>\n",
       "      <td>0.000073</td>\n",
       "      <td>00:00</td>\n",
       "    </tr>\n",
       "    <tr>\n",
       "      <td>24</td>\n",
       "      <td>0.000178</td>\n",
       "      <td>0.000108</td>\n",
       "      <td>00:00</td>\n",
       "    </tr>\n",
       "    <tr>\n",
       "      <td>24</td>\n",
       "      <td>0.000178</td>\n",
       "      <td>0.000108</td>\n",
       "      <td>00:00</td>\n",
       "    </tr>\n",
       "    <tr>\n",
       "      <td>25</td>\n",
       "      <td>0.000186</td>\n",
       "      <td>0.000088</td>\n",
       "      <td>00:00</td>\n",
       "    </tr>\n",
       "    <tr>\n",
       "      <td>25</td>\n",
       "      <td>0.000186</td>\n",
       "      <td>0.000088</td>\n",
       "      <td>00:00</td>\n",
       "    </tr>\n",
       "    <tr>\n",
       "      <td>26</td>\n",
       "      <td>0.000188</td>\n",
       "      <td>0.000200</td>\n",
       "      <td>00:00</td>\n",
       "    </tr>\n",
       "    <tr>\n",
       "      <td>26</td>\n",
       "      <td>0.000188</td>\n",
       "      <td>0.000200</td>\n",
       "      <td>00:00</td>\n",
       "    </tr>\n",
       "    <tr>\n",
       "      <td>27</td>\n",
       "      <td>0.000124</td>\n",
       "      <td>0.000187</td>\n",
       "      <td>00:00</td>\n",
       "    </tr>\n",
       "    <tr>\n",
       "      <td>27</td>\n",
       "      <td>0.000124</td>\n",
       "      <td>0.000187</td>\n",
       "      <td>00:00</td>\n",
       "    </tr>\n",
       "    <tr>\n",
       "      <td>28</td>\n",
       "      <td>0.000108</td>\n",
       "      <td>0.000096</td>\n",
       "      <td>00:00</td>\n",
       "    </tr>\n",
       "    <tr>\n",
       "      <td>28</td>\n",
       "      <td>0.000108</td>\n",
       "      <td>0.000096</td>\n",
       "      <td>00:00</td>\n",
       "    </tr>\n",
       "    <tr>\n",
       "      <td>29</td>\n",
       "      <td>0.000089</td>\n",
       "      <td>0.000121</td>\n",
       "      <td>00:00</td>\n",
       "    </tr>\n",
       "    <tr>\n",
       "      <td>29</td>\n",
       "      <td>0.000089</td>\n",
       "      <td>0.000121</td>\n",
       "      <td>00:00</td>\n",
       "    </tr>\n",
       "    <tr>\n",
       "      <td>30</td>\n",
       "      <td>0.000076</td>\n",
       "      <td>0.000050</td>\n",
       "      <td>00:00</td>\n",
       "    </tr>\n",
       "    <tr>\n",
       "      <td>30</td>\n",
       "      <td>0.000076</td>\n",
       "      <td>0.000050</td>\n",
       "      <td>00:00</td>\n",
       "    </tr>\n",
       "    <tr>\n",
       "      <td>31</td>\n",
       "      <td>0.000055</td>\n",
       "      <td>0.000046</td>\n",
       "      <td>00:00</td>\n",
       "    </tr>\n",
       "    <tr>\n",
       "      <td>31</td>\n",
       "      <td>0.000055</td>\n",
       "      <td>0.000046</td>\n",
       "      <td>00:00</td>\n",
       "    </tr>\n",
       "    <tr>\n",
       "      <td>32</td>\n",
       "      <td>0.000040</td>\n",
       "      <td>0.000044</td>\n",
       "      <td>00:00</td>\n",
       "    </tr>\n",
       "    <tr>\n",
       "      <td>32</td>\n",
       "      <td>0.000040</td>\n",
       "      <td>0.000044</td>\n",
       "      <td>00:00</td>\n",
       "    </tr>\n",
       "    <tr>\n",
       "      <td>33</td>\n",
       "      <td>0.000036</td>\n",
       "      <td>0.000017</td>\n",
       "      <td>00:00</td>\n",
       "    </tr>\n",
       "    <tr>\n",
       "      <td>33</td>\n",
       "      <td>0.000036</td>\n",
       "      <td>0.000017</td>\n",
       "      <td>00:00</td>\n",
       "    </tr>\n",
       "    <tr>\n",
       "      <td>34</td>\n",
       "      <td>0.000027</td>\n",
       "      <td>0.000042</td>\n",
       "      <td>00:00</td>\n",
       "    </tr>\n",
       "    <tr>\n",
       "      <td>34</td>\n",
       "      <td>0.000027</td>\n",
       "      <td>0.000042</td>\n",
       "      <td>00:00</td>\n",
       "    </tr>\n",
       "    <tr>\n",
       "      <td>35</td>\n",
       "      <td>0.000022</td>\n",
       "      <td>0.000022</td>\n",
       "      <td>00:00</td>\n",
       "    </tr>\n",
       "    <tr>\n",
       "      <td>35</td>\n",
       "      <td>0.000022</td>\n",
       "      <td>0.000022</td>\n",
       "      <td>00:00</td>\n",
       "    </tr>\n",
       "    <tr>\n",
       "      <td>36</td>\n",
       "      <td>0.000018</td>\n",
       "      <td>0.000013</td>\n",
       "      <td>00:00</td>\n",
       "    </tr>\n",
       "    <tr>\n",
       "      <td>36</td>\n",
       "      <td>0.000018</td>\n",
       "      <td>0.000013</td>\n",
       "      <td>00:00</td>\n",
       "    </tr>\n",
       "    <tr>\n",
       "      <td>37</td>\n",
       "      <td>0.000015</td>\n",
       "      <td>0.000012</td>\n",
       "      <td>00:00</td>\n",
       "    </tr>\n",
       "    <tr>\n",
       "      <td>37</td>\n",
       "      <td>0.000015</td>\n",
       "      <td>0.000012</td>\n",
       "      <td>00:00</td>\n",
       "    </tr>\n",
       "    <tr>\n",
       "      <td>38</td>\n",
       "      <td>0.000013</td>\n",
       "      <td>0.000012</td>\n",
       "      <td>00:00</td>\n",
       "    </tr>\n",
       "    <tr>\n",
       "      <td>38</td>\n",
       "      <td>0.000013</td>\n",
       "      <td>0.000012</td>\n",
       "      <td>00:00</td>\n",
       "    </tr>\n",
       "    <tr>\n",
       "      <td>39</td>\n",
       "      <td>0.000010</td>\n",
       "      <td>0.000009</td>\n",
       "      <td>00:00</td>\n",
       "    </tr>\n",
       "    <tr>\n",
       "      <td>39</td>\n",
       "      <td>0.000010</td>\n",
       "      <td>0.000009</td>\n",
       "      <td>00:00</td>\n",
       "    </tr>\n",
       "    <tr>\n",
       "      <td>40</td>\n",
       "      <td>0.000010</td>\n",
       "      <td>0.000008</td>\n",
       "      <td>00:00</td>\n",
       "    </tr>\n",
       "    <tr>\n",
       "      <td>40</td>\n",
       "      <td>0.000010</td>\n",
       "      <td>0.000008</td>\n",
       "      <td>00:00</td>\n",
       "    </tr>\n",
       "    <tr>\n",
       "      <td>41</td>\n",
       "      <td>0.000008</td>\n",
       "      <td>0.000008</td>\n",
       "      <td>00:00</td>\n",
       "    </tr>\n",
       "    <tr>\n",
       "      <td>41</td>\n",
       "      <td>0.000008</td>\n",
       "      <td>0.000008</td>\n",
       "      <td>00:00</td>\n",
       "    </tr>\n",
       "    <tr>\n",
       "      <td>42</td>\n",
       "      <td>0.000008</td>\n",
       "      <td>0.000007</td>\n",
       "      <td>00:00</td>\n",
       "    </tr>\n",
       "    <tr>\n",
       "      <td>42</td>\n",
       "      <td>0.000008</td>\n",
       "      <td>0.000007</td>\n",
       "      <td>00:00</td>\n",
       "    </tr>\n",
       "    <tr>\n",
       "      <td>43</td>\n",
       "      <td>0.000007</td>\n",
       "      <td>0.000007</td>\n",
       "      <td>00:00</td>\n",
       "    </tr>\n",
       "    <tr>\n",
       "      <td>43</td>\n",
       "      <td>0.000007</td>\n",
       "      <td>0.000007</td>\n",
       "      <td>00:00</td>\n",
       "    </tr>\n",
       "    <tr>\n",
       "      <td>44</td>\n",
       "      <td>0.000007</td>\n",
       "      <td>0.000006</td>\n",
       "      <td>00:00</td>\n",
       "    </tr>\n",
       "    <tr>\n",
       "      <td>44</td>\n",
       "      <td>0.000007</td>\n",
       "      <td>0.000006</td>\n",
       "      <td>00:00</td>\n",
       "    </tr>\n",
       "    <tr>\n",
       "      <td>45</td>\n",
       "      <td>0.000006</td>\n",
       "      <td>0.000006</td>\n",
       "      <td>00:00</td>\n",
       "    </tr>\n",
       "    <tr>\n",
       "      <td>45</td>\n",
       "      <td>0.000006</td>\n",
       "      <td>0.000006</td>\n",
       "      <td>00:00</td>\n",
       "    </tr>\n",
       "    <tr>\n",
       "      <td>46</td>\n",
       "      <td>0.000006</td>\n",
       "      <td>0.000006</td>\n",
       "      <td>00:00</td>\n",
       "    </tr>\n",
       "    <tr>\n",
       "      <td>46</td>\n",
       "      <td>0.000006</td>\n",
       "      <td>0.000006</td>\n",
       "      <td>00:00</td>\n",
       "    </tr>\n",
       "    <tr>\n",
       "      <td>47</td>\n",
       "      <td>0.000006</td>\n",
       "      <td>0.000006</td>\n",
       "      <td>00:00</td>\n",
       "    </tr>\n",
       "    <tr>\n",
       "      <td>47</td>\n",
       "      <td>0.000006</td>\n",
       "      <td>0.000006</td>\n",
       "      <td>00:00</td>\n",
       "    </tr>\n",
       "    <tr>\n",
       "      <td>48</td>\n",
       "      <td>0.000006</td>\n",
       "      <td>0.000006</td>\n",
       "      <td>00:00</td>\n",
       "    </tr>\n",
       "    <tr>\n",
       "      <td>48</td>\n",
       "      <td>0.000006</td>\n",
       "      <td>0.000006</td>\n",
       "      <td>00:00</td>\n",
       "    </tr>\n",
       "    <tr>\n",
       "      <td>49</td>\n",
       "      <td>0.000006</td>\n",
       "      <td>0.000006</td>\n",
       "      <td>00:00</td>\n",
       "    </tr>\n",
       "    <tr>\n",
       "      <td>49</td>\n",
       "      <td>0.000006</td>\n",
       "      <td>0.000006</td>\n",
       "      <td>00:00</td>\n",
       "    </tr>\n",
       "  </tbody>\n",
       "</table>"
      ],
      "text/plain": [
       "<IPython.core.display.HTML object>"
      ]
     },
     "metadata": {},
     "output_type": "display_data"
    },
    {
     "name": "stdout",
     "output_type": "stream",
     "text": [
      "Training took 31.236641475989018 seconds\n"
     ]
    }
   ],
   "source": [
    "import time\n",
    "\n",
    "# we find the time needed for training\n",
    "start = time.perf_counter() # Starts timer\n",
    "learn.fit_one_cycle(50, lr_min)\n",
    "end = time.perf_counter() # Ends timer\n",
    "delta_t = end - start\n",
    "print('Training took', delta_t, 'seconds')"
   ]
  },
  {
   "cell_type": "code",
   "execution_count": 52,
   "id": "infectious-clinton",
   "metadata": {},
   "outputs": [
    {
     "data": {
      "text/plain": [
       "Text(0, 0.5, 'MSELosses')"
      ]
     },
     "execution_count": 52,
     "metadata": {},
     "output_type": "execute_result"
    },
    {
     "data": {
      "image/png": "[encoded data removed]",
      "text/plain": [
       "<Figure size 432x288 with 1 Axes>"
      ]
     },
     "metadata": {
      "needs_background": "light"
     },
     "output_type": "display_data"
    }
   ],
   "source": [
    "# \n",
    "\n",
    "recorder.plot_loss()\n",
    "plt.title(\"Loss Plot\")\n",
    "plt.xlabel(\"Batch Process\")\n",
    "plt.ylabel(\"MSELosses\")\n",
    "#plt.savefig(os.path.join(save_dir, 'Loss Plot.png'))\n"
   ]
  },
  {
   "cell_type": "code",
   "execution_count": 54,
   "id": "closed-prefix",
   "metadata": {},
   "outputs": [
    {
     "data": {
      "text/html": [],
      "text/plain": [
       "<IPython.core.display.HTML object>"
      ]
     },
     "metadata": {},
     "output_type": "display_data"
    },
    {
     "data": {
      "text/plain": [
       "(#1) [5.568775577557972e-06]"
      ]
     },
     "execution_count": 54,
     "metadata": {},
     "output_type": "execute_result"
    }
   ],
   "source": [
    "learn.validate()"
   ]
  },
  {
   "cell_type": "markdown",
   "id": "fatal-advertiser",
   "metadata": {},
   "source": [
    "## Plots"
   ]
  },
  {
   "cell_type": "code",
   "execution_count": 16,
   "id": "protecting-miracle",
   "metadata": {},
   "outputs": [],
   "source": [
    "from scipy.special import inv_boxcox\n",
    "def custom_unnormalize(df):\n",
    "    df['eta'] = df['eta'] * 5\n",
    "    df['phi'] = df['phi'] * 3\n",
    "#     df['E'] = 10**(df['E'])*1000\n",
    "#     df['pt'] = 10**(df['pt'])*1000\n",
    "    df['pt'] = inv_boxcox(df['pt']+mean1, maxlog1)\n",
    "    df['E'] = inv_boxcox((df['E']+mean2)*10, maxlog2)\n",
    "    return df"
   ]
  },
  {
   "cell_type": "markdown",
   "id": "charged-balloon",
   "metadata": {},
   "source": [
    "### Plot of Reconstruted input vs Orignal Input\n",
    "\n",
    "Output of the model on the test data is obtained and then it is unnormalised."
   ]
  },
  {
   "cell_type": "code",
   "execution_count": 27,
   "id": "ignored-brass",
   "metadata": {},
   "outputs": [
    {
     "name": "stdout",
     "output_type": "stream",
     "text": [
      "R2 of  E 0.9987704560876726\n",
      "R2 of  pt 0.9995456792336214\n",
      "R2 of  eta 0.999513743741173\n",
      "R2 of  phi 0.9996712494343021\n"
     ]
    },
    {
     "data": {
      "image/png": "[encoded data removed]",
      "text/plain": [
       "<Figure size 432x288 with 1 Axes>"
      ]
     },
     "metadata": {},
     "output_type": "display_data"
    },
    {
     "data": {
      "image/png": "[encoded data removed]",
      "text/plain": [
       "<Figure size 432x288 with 1 Axes>"
      ]
     },
     "metadata": {},
     "output_type": "display_data"
    },
    {
     "data": {
      "image/png": "[encoded data removed]",
      "text/plain": [
       "<Figure size 432x288 with 1 Axes>"
      ]
     },
     "metadata": {},
     "output_type": "display_data"
    },
    {
     "data": {
      "image/png": "[encoded data removed]",
      "text/plain": [
       "<Figure size 432x288 with 1 Axes>"
      ]
     },
     "metadata": {},
     "output_type": "display_data"
    }
   ],
   "source": [
    "from sklearn.metrics import r2_score\n",
    "\n",
    "plt.close('all')\n",
    "unit_list = ['[GeV]', '[rad]', '[rad]', '[GeV]']\n",
    "variable_list = [r'$p_T$', r'$\\eta$', r'$\\phi$', r'$E$']\n",
    "line_style = ['--', '-']\n",
    "colors = ['orange', 'c']\n",
    "markers = ['*', 's']\n",
    "\n",
    "model.to('cpu')\n",
    "\n",
    "save = False # Option to save figure\n",
    "\n",
    "# Histograms\n",
    "idxs = (0, len(test))  # Choose events to compare\n",
    "data = torch.tensor(test[idxs[0]:idxs[1]].values, dtype=torch.float)\n",
    "#data = torch.tensor(test[idxs[0]:idxs[1]].values, dtype=torch.float).double()\n",
    "pred = model(data)\n",
    "pred = pred.detach().numpy()\n",
    "data = data.detach().numpy()\n",
    "\n",
    "data_df = custom_unnormalize(pd.DataFrame(data, columns=test.columns))\n",
    "pred_df = custom_unnormalize(pd.DataFrame(pred, columns=test.columns))\n",
    "\n",
    "unnormalized_data_df = data_df\n",
    "unnormalized_pred_df = pred_df    \n",
    "    \n",
    "alph = 0.8\n",
    "n_bins = 200\n",
    "for kk in np.arange(4):\n",
    "    plt.figure()\n",
    "    print(\"R2 of \", test.columns[kk], r2_score(unnormalized_data_df[test.columns[kk]], unnormalized_pred_df[test.columns[kk]]))\n",
    "    n_hist_data, bin_edges, _ = plt.hist(unnormalized_data_df[test.columns[kk]], color=colors[1], label='Input', alpha=1, bins=n_bins)\n",
    "    n_hist_pred, _, _ = plt.hist(unnormalized_pred_df[test.columns[kk]], color=colors[0], label='Output', alpha=alph, bins=bin_edges)\n",
    "    plt.suptitle(test.columns[kk])\n",
    "    plt.xlabel(test.columns[kk])\n",
    "    plt.ylabel('Number of events')\n",
    "    # ms.sciy()\n",
    "    plt.yscale('log')\n",
    "    if save:\n",
    "        plt.savefig(os.path.join(save_dir,test.columns[kk]+'___TanhNoInit.png'))\n",
    "    plt.legend()"
   ]
  },
  {
   "cell_type": "markdown",
   "id": "czech-farmer",
   "metadata": {},
   "source": [
    "### Plot of Residuals"
   ]
  },
  {
   "cell_type": "code",
   "execution_count": 28,
   "id": "abstract-temperature",
   "metadata": {
    "tags": []
   },
   "outputs": [
    {
     "name": "stdout",
     "output_type": "stream",
     "text": [
      "-0.0062657665\n"
     ]
    },
    {
     "data": {
      "image/png": "[encoded data removed]",
      "text/plain": [
       "<Figure size 432x288 with 1 Axes>"
      ]
     },
     "metadata": {},
     "output_type": "display_data"
    },
    {
     "name": "stdout",
     "output_type": "stream",
     "text": [
      "0.002331831\n"
     ]
    },
    {
     "data": {
      "image/png": "[encoded data removed]",
      "text/plain": [
       "<Figure size 432x288 with 1 Axes>"
      ]
     },
     "metadata": {},
     "output_type": "display_data"
    },
    {
     "name": "stdout",
     "output_type": "stream",
     "text": [
      "-0.002608201\n"
     ]
    },
    {
     "data": {
      "image/png": "[encoded data removed]",
      "text/plain": [
       "<Figure size 432x288 with 1 Axes>"
      ]
     },
     "metadata": {},
     "output_type": "display_data"
    },
    {
     "name": "stdout",
     "output_type": "stream",
     "text": [
      "-0.018928293\n"
     ]
    },
    {
     "data": {
      "image/png": "[encoded data removed]",
      "text/plain": [
       "<Figure size 432x288 with 1 Axes>"
      ]
     },
     "metadata": {},
     "output_type": "display_data"
    }
   ],
   "source": [
    "from scipy import stats\n",
    "\n",
    "def find_diff(pred, data):\n",
    "    diff = (pred-data)\n",
    "    for i in test.columns:\n",
    "        diff[i] = diff[i]/data[i]\n",
    "    return diff\n",
    "\n",
    "diff = find_diff(unnormalized_pred_df, unnormalized_data_df)\n",
    "mean = diff.mean()\n",
    "mean_diff = stats.sem(diff)\n",
    "std = diff.std()\n",
    "std_error = diff.std(ddof=0) / np.sqrt(2*len(diff))\n",
    "\n",
    "unit_list = ['[GeV]', '[GeV)]', '[rad]', '[rad]']\n",
    "variable_list = [r'$E$', r'$p_T$', r'$\\eta$', r'$\\phi$']\n",
    "\n",
    "branches=[\"E\", \"pt\",\"eta\",\"phi\"]\n",
    "\n",
    "n_bins = 100\n",
    "\n",
    "props = dict(boxstyle='round', facecolor='wheat', alpha=0.5)\n",
    "\n",
    "for kk in range(0,4):\n",
    "    _, ax = plt.subplots()\n",
    "    print(mean[branches[kk]])\n",
    "    n_hist_data, bin_edges, _ = plt.hist(diff[branches[kk]], label='Input', alpha=0.8, bins=100, range=(-0.01, 0.01))\n",
    "    plt.xlabel(xlabel=variable_list[kk] + ' ' + unit_list[kk])\n",
    "    plt.ylabel('# of events')\n",
    "    plt.title('Residulal of '+ branches[kk])\n",
    "    ax.text(0.67, 0.85, \"Mean: \"+str(mean[kk])+\" +/-\"+str(mean_diff[kk])+\"\\nStd: \"+str(std[kk]) + \" +/-\"+str(std_error[kk]), horizontalalignment='center',\n",
    "      verticalalignment='center', transform=ax.transAxes, bbox=props)\n",
    "    #plt.savefig(os.path.join(save_dir,\"Resuidal of \"+branches[kk]+'___TanhNoInit.png'))\n",
    "    plt.show()"
   ]
  },
  {
   "cell_type": "code",
   "execution_count": 19,
   "id": "tamil-finance",
   "metadata": {
    "tags": []
   },
   "outputs": [
    {
     "data": {
      "text/html": [
       "<div>\n",
       "<style scoped>\n",
       "    .dataframe tbody tr th:only-of-type {\n",
       "        vertical-align: middle;\n",
       "    }\n",
       "\n",
       "    .dataframe tbody tr th {\n",
       "        vertical-align: top;\n",
       "    }\n",
       "\n",
       "    .dataframe thead th {\n",
       "        text-align: right;\n",
       "    }\n",
       "</style>\n",
       "<table border=\"1\" class=\"dataframe\">\n",
       "  <thead>\n",
       "    <tr style=\"text-align: right;\">\n",
       "      <th></th>\n",
       "      <th>E</th>\n",
       "      <th>pt</th>\n",
       "      <th>eta</th>\n",
       "      <th>phi</th>\n",
       "    </tr>\n",
       "  </thead>\n",
       "  <tbody>\n",
       "    <tr>\n",
       "      <th>0</th>\n",
       "      <td>0.029368</td>\n",
       "      <td>0.040558</td>\n",
       "      <td>0.004545</td>\n",
       "      <td>0.008665</td>\n",
       "    </tr>\n",
       "    <tr>\n",
       "      <th>1</th>\n",
       "      <td>-0.059961</td>\n",
       "      <td>-0.041401</td>\n",
       "      <td>-0.043835</td>\n",
       "      <td>-0.063560</td>\n",
       "    </tr>\n",
       "    <tr>\n",
       "      <th>2</th>\n",
       "      <td>0.034670</td>\n",
       "      <td>0.018901</td>\n",
       "      <td>0.021611</td>\n",
       "      <td>-0.004593</td>\n",
       "    </tr>\n",
       "    <tr>\n",
       "      <th>3</th>\n",
       "      <td>0.067437</td>\n",
       "      <td>0.120420</td>\n",
       "      <td>0.034100</td>\n",
       "      <td>0.032488</td>\n",
       "    </tr>\n",
       "    <tr>\n",
       "      <th>4</th>\n",
       "      <td>0.043809</td>\n",
       "      <td>0.031284</td>\n",
       "      <td>0.020572</td>\n",
       "      <td>-0.004716</td>\n",
       "    </tr>\n",
       "  </tbody>\n",
       "</table>\n",
       "</div>"
      ],
      "text/plain": [
       "          E        pt       eta       phi\n",
       "0  0.029368  0.040558  0.004545  0.008665\n",
       "1 -0.059961 -0.041401 -0.043835 -0.063560\n",
       "2  0.034670  0.018901  0.021611 -0.004593\n",
       "3  0.067437  0.120420  0.034100  0.032488\n",
       "4  0.043809  0.031284  0.020572 -0.004716"
      ]
     },
     "execution_count": 19,
     "metadata": {},
     "output_type": "execute_result"
    }
   ],
   "source": [
    "diff.head()"
   ]
  },
  {
   "cell_type": "markdown",
   "id": "chinese-explosion",
   "metadata": {},
   "source": [
    "## Corelation of Residuals"
   ]
  },
  {
   "cell_type": "code",
   "execution_count": 20,
   "id": "informational-press",
   "metadata": {},
   "outputs": [
    {
     "data": {
      "text/plain": [
       "<AxesSubplot:>"
      ]
     },
     "execution_count": 20,
     "metadata": {},
     "output_type": "execute_result"
    },
    {
     "data": {
      "image/png": "[encoded data removed]",
      "text/plain": [
       "<Figure size 432x432 with 2 Axes>"
      ]
     },
     "metadata": {},
     "output_type": "display_data"
    }
   ],
   "source": [
    "import seaborn as sns\n",
    "import matplotlib.pyplot as plt\n",
    "\n",
    "sns.set_theme(style=\"white\")\n",
    "\n",
    "# Compute the correlation matrix\n",
    "corr = diff.corr()\n",
    "\n",
    "# Generate a mask for the upper triangle\n",
    "mask = np.triu(np.ones_like(corr, dtype=bool))\n",
    "\n",
    "# Set up the matplotlib figure\n",
    "f, ax = plt.subplots(figsize=(6, 6))\n",
    "\n",
    "# Generate a custom diverging colormap\n",
    "cmap = sns.diverging_palette(220, 20, as_cmap=True)\n",
    "\n",
    "# Draw the heatmap with the mask and correct aspect ratio\n",
    "sns.heatmap(corr, mask=mask, cmap=cmap, vmax=None, center=0,\n",
    "            square=True, linewidths=.5, cbar_kws={\"shrink\": .5})"
   ]
  },
  {
   "cell_type": "code",
   "execution_count": null,
   "id": "charged-development",
   "metadata": {},
   "outputs": [],
   "source": []
  }
 ],
 "metadata": {
  "kernelspec": {
   "display_name": "Python 3",
   "language": "python",
   "name": "python3"
  },
  "language_info": {
   "codemirror_mode": {
    "name": "ipython",
    "version": 3
   },
   "file_extension": ".py",
   "mimetype": "text/x-python",
   "name": "python",
   "nbconvert_exporter": "python",
   "pygments_lexer": "ipython3",
   "version": "3.8.8"
  }
 },
 "nbformat": 4,
 "nbformat_minor": 5
}
