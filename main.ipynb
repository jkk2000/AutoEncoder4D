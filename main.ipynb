{
 "cells": [
  {
   "cell_type": "markdown",
   "id": "minus-baptist",
   "metadata": {},
   "source": [
    "# Evaluation Task"
   ]
  },
  {
   "cell_type": "markdown",
   "id": "great-flesh",
   "metadata": {},
   "source": [
    "## Import Extracted Data"
   ]
  },
  {
   "cell_type": "code",
   "execution_count": 1,
   "id": "experimental-cooling",
   "metadata": {},
   "outputs": [],
   "source": [
    "import os\n",
    "save_dir = \"FinalPlots\"\n",
    "if not os.path.exists(save_dir):\n",
    "    os.makedirs(save_dir)"
   ]
  },
  {
   "cell_type": "code",
   "execution_count": 2,
   "id": "informational-valuable",
   "metadata": {},
   "outputs": [],
   "source": [
    "import pandas as pd\n",
    "import numpy as np\n",
    "from scipy import stats\n",
    "\n",
    "dataset_path = \"/home/jason/AutoEncoder/extracted_input.csv\"\n",
    "\n",
    "dataset = pd.read_csv(dataset_path)"
   ]
  },
  {
   "cell_type": "code",
   "execution_count": 3,
   "id": "thirty-heating",
   "metadata": {},
   "outputs": [
    {
     "data": {
      "text/html": [
       "<div>\n",
       "<style scoped>\n",
       "    .dataframe tbody tr th:only-of-type {\n",
       "        vertical-align: middle;\n",
       "    }\n",
       "\n",
       "    .dataframe tbody tr th {\n",
       "        vertical-align: top;\n",
       "    }\n",
       "\n",
       "    .dataframe thead th {\n",
       "        text-align: right;\n",
       "    }\n",
       "</style>\n",
       "<table border=\"1\" class=\"dataframe\">\n",
       "  <thead>\n",
       "    <tr style=\"text-align: right;\">\n",
       "      <th></th>\n",
       "      <th>E</th>\n",
       "      <th>pt</th>\n",
       "      <th>eta</th>\n",
       "      <th>phi</th>\n",
       "    </tr>\n",
       "  </thead>\n",
       "  <tbody>\n",
       "    <tr>\n",
       "      <th>0</th>\n",
       "      <td>258722.0</td>\n",
       "      <td>243675.0</td>\n",
       "      <td>0.328962</td>\n",
       "      <td>2.25014</td>\n",
       "    </tr>\n",
       "    <tr>\n",
       "      <th>1</th>\n",
       "      <td>520092.0</td>\n",
       "      <td>108590.0</td>\n",
       "      <td>-2.247300</td>\n",
       "      <td>-1.85679</td>\n",
       "    </tr>\n",
       "    <tr>\n",
       "      <th>2</th>\n",
       "      <td>383024.0</td>\n",
       "      <td>88405.6</td>\n",
       "      <td>2.145160</td>\n",
       "      <td>-1.95635</td>\n",
       "    </tr>\n",
       "    <tr>\n",
       "      <th>3</th>\n",
       "      <td>39507.6</td>\n",
       "      <td>35365.1</td>\n",
       "      <td>0.470460</td>\n",
       "      <td>-1.16445</td>\n",
       "    </tr>\n",
       "    <tr>\n",
       "      <th>4</th>\n",
       "      <td>225430.0</td>\n",
       "      <td>26878.2</td>\n",
       "      <td>-2.816080</td>\n",
       "      <td>-2.25938</td>\n",
       "    </tr>\n",
       "  </tbody>\n",
       "</table>\n",
       "</div>"
      ],
      "text/plain": [
       "          E        pt       eta      phi\n",
       "0  258722.0  243675.0  0.328962  2.25014\n",
       "1  520092.0  108590.0 -2.247300 -1.85679\n",
       "2  383024.0   88405.6  2.145160 -1.95635\n",
       "3   39507.6   35365.1  0.470460 -1.16445\n",
       "4  225430.0   26878.2 -2.816080 -2.25938"
      ]
     },
     "execution_count": 3,
     "metadata": {},
     "output_type": "execute_result"
    }
   ],
   "source": [
    "dataset.head()"
   ]
  },
  {
   "cell_type": "markdown",
   "id": "original-locking",
   "metadata": {},
   "source": [
    "## Split Data\n",
    "Train and test set are obtained from the dataset in a ratio of 80:20"
   ]
  },
  {
   "cell_type": "code",
   "execution_count": 4,
   "id": "seventh-bubble",
   "metadata": {},
   "outputs": [],
   "source": [
    "from sklearn.model_selection import train_test_split\n",
    "\n",
    "train, test = train_test_split(dataset.copy(), test_size=0.2)\n",
    "# dataset[:18000].copy(), dataset[18000:].copy(), dataset[:18000].copy(), dataset[18000:].copy()\n",
    "\n",
    "# indices are reset so that reassigning values of boxcox transformation works\n",
    "index = pd.Series([i for i in range(0, len(test))])\n",
    "test = test.set_index(index)\n",
    "\n",
    "index = pd.Series([i for i in range(0, len(train))])\n",
    "train = train.set_index(index)"
   ]
  },
  {
   "cell_type": "code",
   "execution_count": 5,
   "id": "smooth-coaching",
   "metadata": {},
   "outputs": [
    {
     "data": {
      "image/png": "[encoded data removed]",
      "text/plain": [
       "<Figure size 432x288 with 1 Axes>"
      ]
     },
     "metadata": {
      "needs_background": "light"
     },
     "output_type": "display_data"
    },
    {
     "data": {
      "image/png": "[encoded data removed]",
      "text/plain": [
       "<Figure size 432x288 with 1 Axes>"
      ]
     },
     "metadata": {
      "needs_background": "light"
     },
     "output_type": "display_data"
    },
    {
     "data": {
      "image/png": "[encoded data removed]",
      "text/plain": [
       "<Figure size 432x288 with 1 Axes>"
      ]
     },
     "metadata": {
      "needs_background": "light"
     },
     "output_type": "display_data"
    },
    {
     "data": {
      "image/png": "[encoded data removed]",
      "text/plain": [
       "<Figure size 432x288 with 1 Axes>"
      ]
     },
     "metadata": {
      "needs_background": "light"
     },
     "output_type": "display_data"
    }
   ],
   "source": [
    "import matplotlib.pyplot as plt\n",
    "\n",
    "unit_list = ['[GeV]', '[rad]', '[rad]', '[GeV]']\n",
    "variable_list = [r'$p_T$', r'$\\eta$', r'$\\phi$', r'$E$']\n",
    "\n",
    "branches=[\"pt\",\"eta\",\"phi\",\"E\"]\n",
    "\n",
    "n_bins = 100\n",
    "\n",
    "for kk in range(0,4):\n",
    "    n_hist_data, bin_edges, _ = plt.hist(train[branches[kk]], color='gray', label='Input', alpha=1, bins=n_bins)\n",
    "    plt.xlabel(xlabel=variable_list[kk] + ' ' + unit_list[kk])\n",
    "    plt.ylabel('# of events')\n",
    "    plt.title(\"Plot of \" + variable_list[kk])\n",
    "    plt.savefig(os.path.join(save_dir, \"UnNormalised_\"+branches[kk]),dpi=300)\n",
    "    plt.show()"
   ]
  },
  {
   "cell_type": "markdown",
   "id": "direct-township",
   "metadata": {},
   "source": [
    "## Custom Normalisation\n",
    "We normalise the data and I noticed boxcox seems to work better than log10 for \"E\" and \"pt\""
   ]
  },
  {
   "cell_type": "code",
   "execution_count": 6,
   "id": "hazardous-scheme",
   "metadata": {},
   "outputs": [
    {
     "data": {
      "text/html": [
       "<div>\n",
       "<style scoped>\n",
       "    .dataframe tbody tr th:only-of-type {\n",
       "        vertical-align: middle;\n",
       "    }\n",
       "\n",
       "    .dataframe tbody tr th {\n",
       "        vertical-align: top;\n",
       "    }\n",
       "\n",
       "    .dataframe thead th {\n",
       "        text-align: right;\n",
       "    }\n",
       "</style>\n",
       "<table border=\"1\" class=\"dataframe\">\n",
       "  <thead>\n",
       "    <tr style=\"text-align: right;\">\n",
       "      <th></th>\n",
       "      <th>E</th>\n",
       "      <th>pt</th>\n",
       "      <th>eta</th>\n",
       "      <th>phi</th>\n",
       "    </tr>\n",
       "  </thead>\n",
       "  <tbody>\n",
       "    <tr>\n",
       "      <th>0</th>\n",
       "      <td>-0.077135</td>\n",
       "      <td>0.103361</td>\n",
       "      <td>-0.146949</td>\n",
       "      <td>-0.855403</td>\n",
       "    </tr>\n",
       "    <tr>\n",
       "      <th>1</th>\n",
       "      <td>-0.389686</td>\n",
       "      <td>-0.337067</td>\n",
       "      <td>-0.254600</td>\n",
       "      <td>0.237312</td>\n",
       "    </tr>\n",
       "    <tr>\n",
       "      <th>2</th>\n",
       "      <td>0.375389</td>\n",
       "      <td>0.506016</td>\n",
       "      <td>-0.070780</td>\n",
       "      <td>0.192229</td>\n",
       "    </tr>\n",
       "    <tr>\n",
       "      <th>3</th>\n",
       "      <td>0.391664</td>\n",
       "      <td>0.392475</td>\n",
       "      <td>-0.225546</td>\n",
       "      <td>-0.551460</td>\n",
       "    </tr>\n",
       "    <tr>\n",
       "      <th>4</th>\n",
       "      <td>0.086823</td>\n",
       "      <td>0.103073</td>\n",
       "      <td>-0.271984</td>\n",
       "      <td>-0.713147</td>\n",
       "    </tr>\n",
       "  </tbody>\n",
       "</table>\n",
       "</div>"
      ],
      "text/plain": [
       "          E        pt       eta       phi\n",
       "0 -0.077135  0.103361 -0.146949 -0.855403\n",
       "1 -0.389686 -0.337067 -0.254600  0.237312\n",
       "2  0.375389  0.506016 -0.070780  0.192229\n",
       "3  0.391664  0.392475 -0.225546 -0.551460\n",
       "4  0.086823  0.103073 -0.271984 -0.713147"
      ]
     },
     "execution_count": 6,
     "metadata": {},
     "output_type": "execute_result"
    }
   ],
   "source": [
    "\n",
    "train[\"eta\"] = train[\"eta\"]/5\n",
    "train[\"phi\"] = train[\"phi\"]/3\n",
    "\n",
    "test[\"eta\"] = test[\"eta\"]/5\n",
    "test[\"phi\"] = test[\"phi\"]/3\n",
    "\n",
    "\n",
    "# train[\"E\"] = np.log10(train[\"E\"]/1000)\n",
    "# train[\"pt\"] = np.log10(train[\"pt\"]/1000)\n",
    "# # print(stats.shapiro(train[\"E\"]))\n",
    "# # print(stats.shapiro(train[\"pt\"]))\n",
    "\n",
    "# test[\"E\"] = np.log10(test[\"E\"]/1000)\n",
    "# test[\"pt\"] = np.log10(test[\"pt\"]/1000)\n",
    "# dataset[\"pt\"] = np.sqrt(dataset[\"pt\"])\n",
    "# dataset[\"E\"] = np.cbrt(dataset[\"E\"])\n",
    "\n",
    "# dataset[\"pt\"] = np.log10(1+dataset[\"pt\"])\n",
    "# dataset[\"E\"] = np.log10(1+dataset[\"E\"])\n",
    "\n",
    "# since data is right skewed, boxcox transformation works best\n",
    "# we first apply the transformation to the train and then apply it to the\n",
    "#    test dataset so that we dont leak information about the test data\n",
    "a, maxlog1 = stats.boxcox(train[\"pt\"].to_numpy())\n",
    "b, maxlog2 = stats.boxcox(train[\"E\"].to_numpy())\n",
    "\n",
    "b = b/10\n",
    "mean1 = a.mean()\n",
    "mean2 = b.mean()\n",
    "\n",
    "train[\"pt\"] = pd.DataFrame(a-mean1)\n",
    "train[\"E\"] = pd.DataFrame(b-mean2)\n",
    "\n",
    "a = stats.boxcox(test[\"pt\"].to_numpy(), maxlog1)\n",
    "b = stats.boxcox(test[\"E\"].to_numpy(), maxlog2)/10\n",
    "    \n",
    "test[\"pt\"] = pd.DataFrame(a-mean1)\n",
    "test[\"E\"] = pd.DataFrame(b-mean2)\n",
    "\n",
    "    \n",
    "train.head()"
   ]
  },
  {
   "cell_type": "markdown",
   "id": "disturbed-gauge",
   "metadata": {},
   "source": [
    "## Plotting Normalised data"
   ]
  },
  {
   "cell_type": "code",
   "execution_count": 7,
   "id": "australian-willow",
   "metadata": {},
   "outputs": [
    {
     "data": {
      "image/png": "[encoded data removed]",
      "text/plain": [
       "<Figure size 432x288 with 1 Axes>"
      ]
     },
     "metadata": {
      "needs_background": "light"
     },
     "output_type": "display_data"
    },
    {
     "data": {
      "image/png": "[encoded data removed]",
      "text/plain": [
       "<Figure size 432x288 with 1 Axes>"
      ]
     },
     "metadata": {
      "needs_background": "light"
     },
     "output_type": "display_data"
    },
    {
     "data": {
      "image/png": "[encoded data removed]",
      "text/plain": [
       "<Figure size 432x288 with 1 Axes>"
      ]
     },
     "metadata": {
      "needs_background": "light"
     },
     "output_type": "display_data"
    },
    {
     "data": {
      "image/png": "[encoded data removed]",
      "text/plain": [
       "<Figure size 432x288 with 1 Axes>"
      ]
     },
     "metadata": {
      "needs_background": "light"
     },
     "output_type": "display_data"
    }
   ],
   "source": [
    "import matplotlib.pyplot as plt\n",
    "\n",
    "#train = custom_unnormalize(train)\n",
    "unit_list = ['[boxcox(GeV)]', '[rad/5]', '[rad/3]', '[boxcox(GeV)]']\n",
    "variable_list = [r'$p_T$', r'$\\eta$', r'$\\phi$', r'$E$']\n",
    "\n",
    "branches=[\"pt\",\"eta\",\"phi\",\"E\"]\n",
    "\n",
    "n_bins = 100\n",
    "\n",
    "for kk in range(0,4):\n",
    "    n_hist_data, bin_edges, _ = plt.hist(train[branches[kk]], color='gray', label='Input', alpha=1, bins=n_bins)\n",
    "    plt.xlabel(xlabel=variable_list[kk] + ' ' + unit_list[kk])\n",
    "    plt.ylabel('# of events')\n",
    "    plt.title(\"Plot of \" + branches[kk])\n",
    "    plt.savefig(os.path.join(save_dir, \"Normalised_\"+branches[kk]),dpi=300)\n",
    "    plt.show()"
   ]
  },
  {
   "cell_type": "markdown",
   "id": "studied-azerbaijan",
   "metadata": {},
   "source": [
    "## Loading data into Pytorch Dataloader"
   ]
  },
  {
   "cell_type": "code",
   "execution_count": 8,
   "id": "brief-balance",
   "metadata": {},
   "outputs": [
    {
     "name": "stdout",
     "output_type": "stream",
     "text": [
      "              E        pt       eta       phi\n",
      "0     -0.077135  0.103361 -0.146949 -0.855403\n",
      "1     -0.389686 -0.337067 -0.254600  0.237312\n",
      "2      0.375389  0.506016 -0.070780  0.192229\n",
      "3      0.391664  0.392475 -0.225546 -0.551460\n",
      "4      0.086823  0.103073 -0.271984 -0.713147\n",
      "...         ...       ...       ...       ...\n",
      "18123 -0.297255 -0.110200  0.144778  0.871910\n",
      "18124 -0.543343 -0.421193 -0.184178 -0.102747\n",
      "18125  0.227946  0.416815  0.024443 -0.468973\n",
      "18126 -0.175896  0.085045 -0.006091 -0.479207\n",
      "18127 -0.308930 -0.085433  0.111569  0.108739\n",
      "\n",
      "[18128 rows x 4 columns]\n"
     ]
    },
    {
     "name": "stderr",
     "output_type": "stream",
     "text": [
      "/home/jason/miniconda3/envs/AE-compression/lib/python3.8/site-packages/torch/cuda/__init__.py:52: UserWarning: CUDA initialization: CUDA unknown error - this may be due to an incorrectly set up environment, e.g. changing env variable CUDA_VISIBLE_DEVICES after program start. Setting the available devices to be zero. (Triggered internally at  /opt/conda/conda-bld/pytorch_1614378062065/work/c10/cuda/CUDAFunctions.cpp:109.)\n",
      "  return torch._C._cuda_getDeviceCount() > 0\n"
     ]
    }
   ],
   "source": [
    "import torch\n",
    "import torch.nn as nn\n",
    "import torch.optim as optim\n",
    "import torch.utils.data\n",
    "from torch.autograd import Variable\n",
    "\n",
    "from torch.utils.data import TensorDataset\n",
    "from torch.utils.data import DataLoader\n",
    "\n",
    "from fastai import learner\n",
    "from fastai.data import core\n",
    "\n",
    "# creating a copy of the data for X and y\n",
    "# X and y are the same since the model is an autoencoder\n",
    "X_test, y_test = test.copy(), test.copy()\n",
    "X_train, y_train = train.copy(), train.copy()\n",
    "\n",
    "print(train)\n",
    "\n",
    "# Constructs a tensor object of the data and wraps them in a TensorDataset object.\n",
    "train_ds = TensorDataset(torch.tensor(X_train.values, dtype=torch.float), torch.tensor(y_train.values, dtype=torch.float))\n",
    "valid_ds = TensorDataset(torch.tensor(X_test.values, dtype=torch.float), torch.tensor(y_test.values, dtype=torch.float))"
   ]
  },
  {
   "cell_type": "code",
   "execution_count": 9,
   "id": "threaded-albuquerque",
   "metadata": {},
   "outputs": [],
   "source": [
    "\n",
    "bs = 256\n",
    "\n",
    "# Converts the TensorDataset into a DataLoader object and combines into one DataLoaders object (a basic wrapper\n",
    "# around several DataLoader objects). \n",
    "train_dl = DataLoader(train_ds, batch_size=bs, shuffle=True)\n",
    "valid_dl = DataLoader(valid_ds, batch_size=bs * 2)\n",
    "dls = core.DataLoaders(train_dl, valid_dl)"
   ]
  },
  {
   "cell_type": "markdown",
   "id": "environmental-circuit",
   "metadata": {},
   "source": [
    "## Creating a Tanh model with Batch Normalisation after each layer\n",
    "It was seen that Tanh varient with a low MSE and low mean residual reconstruction error"
   ]
  },
  {
   "cell_type": "code",
   "execution_count": 10,
   "id": "available-silver",
   "metadata": {},
   "outputs": [
    {
     "data": {
      "text/plain": [
       "AE_3D_200_Tanh(\n",
       "  (en1): Linear(in_features=4, out_features=200, bias=True)\n",
       "  (ebn1): BatchNorm1d(200, eps=1e-05, momentum=0.1, affine=True, track_running_stats=True)\n",
       "  (en2): Linear(in_features=200, out_features=100, bias=True)\n",
       "  (ebn2): BatchNorm1d(100, eps=1e-05, momentum=0.1, affine=True, track_running_stats=True)\n",
       "  (en3): Linear(in_features=100, out_features=50, bias=True)\n",
       "  (ebn3): BatchNorm1d(50, eps=1e-05, momentum=0.1, affine=True, track_running_stats=True)\n",
       "  (en4): Linear(in_features=50, out_features=3, bias=True)\n",
       "  (dbn0): BatchNorm1d(3, eps=1e-05, momentum=0.1, affine=True, track_running_stats=True)\n",
       "  (de1): Linear(in_features=3, out_features=50, bias=True)\n",
       "  (dbn1): BatchNorm1d(50, eps=1e-05, momentum=0.1, affine=True, track_running_stats=True)\n",
       "  (de2): Linear(in_features=50, out_features=100, bias=True)\n",
       "  (dbn2): BatchNorm1d(100, eps=1e-05, momentum=0.1, affine=True, track_running_stats=True)\n",
       "  (de3): Linear(in_features=100, out_features=200, bias=True)\n",
       "  (dbn3): BatchNorm1d(200, eps=1e-05, momentum=0.1, affine=True, track_running_stats=True)\n",
       "  (de4): Linear(in_features=200, out_features=4, bias=True)\n",
       "  (ELU): SELU()\n",
       ")"
      ]
     },
     "execution_count": 10,
     "metadata": {},
     "output_type": "execute_result"
    }
   ],
   "source": [
    "\n",
    "class AE_3D_200_Tanh(nn.Module):\n",
    "    def __init__(self, n_features=4):\n",
    "        super(AE_3D_200_Tanh, self).__init__()\n",
    "        self.en1 = nn.Linear(n_features, 200)\n",
    "        self.ebn1 = nn.BatchNorm1d(200)\n",
    "        self.en2 = nn.Linear(200, 100)\n",
    "        self.ebn2 = nn.BatchNorm1d(100)\n",
    "        self.en3 = nn.Linear(100, 50)\n",
    "        self.ebn3 = nn.BatchNorm1d(50)\n",
    "        self.en4 = nn.Linear(50, 3)\n",
    "        self.dbn0 = nn.BatchNorm1d(3)\n",
    "        self.de1 = nn.Linear(3, 50)\n",
    "        self.dbn1 = nn.BatchNorm1d(50)\n",
    "        self.de2 = nn.Linear(50, 100)\n",
    "        self.dbn2 = nn.BatchNorm1d(100)\n",
    "        self.de3 = nn.Linear(100, 200)\n",
    "        self.dbn3 = nn.BatchNorm1d(200)\n",
    "        self.de4 = nn.Linear(200, n_features)\n",
    "        self.ELU = nn.SELU()\n",
    "\n",
    "    def encode(self, x):\n",
    "        x = self.en1(x)\n",
    "        x = self.ELU(x)\n",
    "        #x = self.ebn1(x)\n",
    "        x = self.en2(x)\n",
    "        x = self.ELU(x)\n",
    "        #x = self.ebn2(x)\n",
    "        x = self.en3(x)\n",
    "        x = self.ELU(x)\n",
    "        #x = self.ebn3(x)\n",
    "        return self.en4(x)\n",
    "\n",
    "    def decode(self, x):\n",
    "        x = self.ELU(x)\n",
    "        #x = self.dbn0(x)\n",
    "        x = self.de1(x)\n",
    "        x = self.ELU(x)\n",
    "        #x = self.dbn1(x)\n",
    "        x = self.de2(x)\n",
    "        x = self.ELU(x)\n",
    "        #x = self.dbn2(x)\n",
    "        x = self.de3(x)\n",
    "        x = self.ELU(x)\n",
    "        #x = self.dbn3(x)\n",
    "        return self.de4(x)\n",
    "\n",
    "    def forward(self, x):\n",
    "        z = self.encode(x)\n",
    "        return self.decode(z)\n",
    "\n",
    "    def describe(self):\n",
    "        return 'in-200-200-20-3-20-200-200-out'\n",
    "\n",
    "def init_weights(m):\n",
    "    if type(m) == nn.Linear:\n",
    "        torch.nn.init.xavier_normal_(m.weight)\n",
    "        m.bias.data.fill_(0.01) \n",
    "    \n",
    "model = AE_3D_200_Tanh()\n",
    "model.to('cpu')\n",
    "#model.apply(init_weights)"
   ]
  },
  {
   "cell_type": "code",
   "execution_count": 11,
   "id": "simple-caution",
   "metadata": {},
   "outputs": [],
   "source": [
    "from fastai.metrics import mse\n",
    "\n",
    "loss_func = nn.MSELoss()\n",
    "\n",
    "#bn_wd = False  # Don't use weight decay for batchnorm layers\n",
    "#true_wd = True  # weight decay will be used for all optimizers\n",
    "wd = 1e-6\n",
    "\n",
    "recorder = learner.Recorder()\n",
    "learn = learner.Learner(dls, model=model, wd=wd, loss_func=loss_func, cbs=recorder)"
   ]
  },
  {
   "cell_type": "markdown",
   "id": "harmful-columbus",
   "metadata": {},
   "source": [
    "## 1cycle training\n",
    "The 1cycle policy allows to us train the model very quickly, a phenomenon termed superconvergence."
   ]
  },
  {
   "cell_type": "code",
   "execution_count": 12,
   "id": "dried-clause",
   "metadata": {},
   "outputs": [
    {
     "name": "stdout",
     "output_type": "stream",
     "text": [
      "Learning rate with the minimum loss: 0.001096478197723627\n",
      "Learning rate with the steepest gradient: 0.001737800776027143\n"
     ]
    },
    {
     "data": {
      "image/png": "[encoded data removed]",
      "text/plain": [
       "<Figure size 432x288 with 1 Axes>"
      ]
     },
     "metadata": {
      "needs_background": "light"
     },
     "output_type": "display_data"
    }
   ],
   "source": [
    "from fastai.callback import schedule\n",
    "\n",
    "# to use 1cycle callback from fastai we need to find the optimum learning rate which we can find using lr_finder()\n",
    "lr_min, lr_steep = learn.lr_find()\n",
    "\n",
    "print('Learning rate with the minimum loss:', lr_min)\n",
    "print('Learning rate with the steepest gradient:', lr_steep)"
   ]
  },
  {
   "cell_type": "code",
   "execution_count": 13,
   "id": "twelve-limitation",
   "metadata": {},
   "outputs": [
    {
     "name": "stdout",
     "output_type": "stream",
     "text": [
      "[0, 0.08115977793931961, 0.040292996913194656, '00:00']\n",
      "[0, 0.08115977793931961, 0.040292996913194656, '00:00']\n",
      "[1, 0.028953388333320618, 0.011033952236175537, '00:00']\n",
      "[1, 0.028953388333320618, 0.011033952236175537, '00:00']\n",
      "[2, 0.01345912180840969, 0.007625609170645475, '00:00']\n",
      "[2, 0.01345912180840969, 0.007625609170645475, '00:00']\n",
      "[3, 0.007587485481053591, 0.003982283640652895, '00:00']\n",
      "[3, 0.007587485481053591, 0.003982283640652895, '00:00']\n",
      "[4, 0.0032889957074075937, 0.000962517224252224, '00:00']\n",
      "[4, 0.0032889957074075937, 0.000962517224252224, '00:00']\n",
      "[5, 0.0012659842614084482, 0.0003807735338341445, '00:00']\n",
      "[5, 0.0012659842614084482, 0.0003807735338341445, '00:00']\n",
      "[6, 0.0005946868332102895, 0.00022694708604831249, '00:00']\n",
      "[6, 0.0005946868332102895, 0.00022694708604831249, '00:00']\n",
      "[7, 0.00042935748933814466, 0.0003563060599844903, '00:00']\n",
      "[7, 0.00042935748933814466, 0.0003563060599844903, '00:00']\n",
      "[8, 0.00044285450712777674, 0.0002339680795557797, '00:00']\n",
      "[8, 0.00044285450712777674, 0.0002339680795557797, '00:00']\n",
      "[9, 0.0004375571443233639, 0.0005645066266879439, '00:00']\n",
      "[9, 0.0004375571443233639, 0.0005645066266879439, '00:00']\n",
      "[10, 0.0004849663528148085, 0.0012117704609408975, '00:00']\n",
      "[10, 0.0004849663528148085, 0.0012117704609408975, '00:00']\n",
      "[11, 0.0006039123982191086, 0.0002959539706353098, '00:00']\n",
      "[11, 0.0006039123982191086, 0.0002959539706353098, '00:00']\n",
      "[12, 0.0005040029063820839, 0.0008511745254509151, '00:00']\n",
      "[12, 0.0005040029063820839, 0.0008511745254509151, '00:00']\n",
      "[13, 0.0005259327008388937, 0.0002955224772449583, '00:00']\n",
      "[13, 0.0005259327008388937, 0.0002955224772449583, '00:00']\n",
      "[14, 0.000720130919944495, 0.0004801313625648618, '00:00']\n",
      "[14, 0.000720130919944495, 0.0004801313625648618, '00:00']\n",
      "[15, 0.0005719749606214464, 0.000581157102715224, '00:00']\n",
      "[15, 0.0005719749606214464, 0.000581157102715224, '00:00']\n",
      "[16, 0.0005506164161488414, 0.0006330811302177608, '00:00']\n",
      "[16, 0.0005506164161488414, 0.0006330811302177608, '00:00']\n",
      "[17, 0.0004344781336840242, 0.00014168498455546796, '00:00']\n",
      "[17, 0.0004344781336840242, 0.00014168498455546796, '00:00']\n",
      "[18, 0.0006217816844582558, 0.0005531155038625002, '00:00']\n",
      "[18, 0.0006217816844582558, 0.0005531155038625002, '00:00']\n",
      "[19, 0.00040228269062936306, 0.0007336682756431401, '00:00']\n",
      "[19, 0.00040228269062936306, 0.0007336682756431401, '00:00']\n",
      "[20, 0.0003921969037037343, 0.000512018334120512, '00:00']\n",
      "[20, 0.0003921969037037343, 0.000512018334120512, '00:00']\n",
      "[21, 0.00028822908643633127, 0.00036107798223383725, '00:00']\n",
      "[21, 0.00028822908643633127, 0.00036107798223383725, '00:00']\n",
      "[22, 0.0003728341544046998, 0.0002152798551833257, '00:00']\n",
      "[22, 0.0003728341544046998, 0.0002152798551833257, '00:00']\n",
      "[23, 0.00028509474941529334, 0.00016838584269862622, '00:00']\n",
      "[23, 0.00028509474941529334, 0.00016838584269862622, '00:00']\n",
      "[24, 0.0003054121043533087, 0.0003424244641792029, '00:00']\n",
      "[24, 0.0003054121043533087, 0.0003424244641792029, '00:00']\n",
      "[25, 0.0002185338962590322, 0.00012135225551901385, '00:00']\n",
      "[25, 0.0002185338962590322, 0.00012135225551901385, '00:00']\n",
      "[26, 0.00020664348267018795, 0.00019486190285533667, '00:00']\n",
      "[26, 0.00020664348267018795, 0.00019486190285533667, '00:00']\n",
      "[27, 0.0002097289398079738, 0.00017983773432206362, '00:00']\n",
      "[27, 0.0002097289398079738, 0.00017983773432206362, '00:00']\n",
      "[28, 0.00019061269995290786, 0.0001935268664965406, '00:00']\n",
      "[28, 0.00019061269995290786, 0.0001935268664965406, '00:00']\n",
      "[29, 0.00017813548038247973, 8.086728485068306e-05, '00:00']\n",
      "[29, 0.00017813548038247973, 8.086728485068306e-05, '00:00']\n",
      "[30, 0.00013630578177981079, 8.76161502674222e-05, '00:00']\n",
      "[30, 0.00013630578177981079, 8.76161502674222e-05, '00:00']\n",
      "[31, 0.00011664984049275517, 0.00010014290455728769, '00:00']\n",
      "[31, 0.00011664984049275517, 0.00010014290455728769, '00:00']\n",
      "[32, 9.819804108701646e-05, 8.961459388956428e-05, '00:00']\n",
      "[32, 9.819804108701646e-05, 8.961459388956428e-05, '00:00']\n",
      "[33, 0.00010137656499864534, 9.381477866554633e-05, '00:00']\n",
      "[33, 0.00010137656499864534, 9.381477866554633e-05, '00:00']\n",
      "[34, 7.814102718839422e-05, 4.621340485755354e-05, '00:00']\n",
      "[34, 7.814102718839422e-05, 4.621340485755354e-05, '00:00']\n",
      "[35, 6.586909876205027e-05, 6.908255454618484e-05, '00:00']\n",
      "[35, 6.586909876205027e-05, 6.908255454618484e-05, '00:00']\n",
      "[36, 5.599085852736607e-05, 4.926628025714308e-05, '00:00']\n",
      "[36, 5.599085852736607e-05, 4.926628025714308e-05, '00:00']\n",
      "[37, 5.248918023426086e-05, 2.446875259920489e-05, '00:00']\n",
      "[37, 5.248918023426086e-05, 2.446875259920489e-05, '00:00']\n",
      "[38, 3.855493196169846e-05, 6.003169983159751e-05, '00:00']\n",
      "[38, 3.855493196169846e-05, 6.003169983159751e-05, '00:00']\n",
      "[39, 3.628750710049644e-05, 2.083921935991384e-05, '00:00']\n",
      "[39, 3.628750710049644e-05, 2.083921935991384e-05, '00:00']\n",
      "[40, 3.2130032195709646e-05, 2.2133617676445283e-05, '00:00']\n",
      "[40, 3.2130032195709646e-05, 2.2133617676445283e-05, '00:00']\n",
      "[41, 3.0840154067846015e-05, 2.461196345393546e-05, '00:00']\n",
      "[41, 3.0840154067846015e-05, 2.461196345393546e-05, '00:00']\n",
      "[42, 2.4341154130524956e-05, 2.130726534232963e-05, '00:00']\n",
      "[42, 2.4341154130524956e-05, 2.130726534232963e-05, '00:00']\n",
      "[43, 2.4029621272347867e-05, 1.7149202903965488e-05, '00:00']\n",
      "[43, 2.4029621272347867e-05, 1.7149202903965488e-05, '00:00']\n",
      "[44, 1.8989085219800472e-05, 1.3549193681683391e-05, '00:00']\n",
      "[44, 1.8989085219800472e-05, 1.3549193681683391e-05, '00:00']\n",
      "[45, 1.5947434803820215e-05, 1.6722086002118886e-05, '00:00']\n",
      "[45, 1.5947434803820215e-05, 1.6722086002118886e-05, '00:00']\n",
      "[46, 1.3733976629737299e-05, 1.3212336853030138e-05, '00:00']\n",
      "[46, 1.3733976629737299e-05, 1.3212336853030138e-05, '00:00']\n",
      "[47, 1.3253064935270231e-05, 1.3254209079605062e-05, '00:00']\n",
      "[47, 1.3253064935270231e-05, 1.3254209079605062e-05, '00:00']\n",
      "[48, 1.2414230695867445e-05, 1.1899807759618852e-05, '00:00']\n",
      "[48, 1.2414230695867445e-05, 1.1899807759618852e-05, '00:00']\n",
      "[49, 1.1757662832678761e-05, 1.1426966011640616e-05, '00:00']\n",
      "[49, 1.1757662832678761e-05, 1.1426966011640616e-05, '00:00']\n",
      "[50, 1.0652288437995594e-05, 9.80928416538518e-06, '00:00']\n",
      "[50, 1.0652288437995594e-05, 9.80928416538518e-06, '00:00']\n",
      "[51, 1.0435651347506791e-05, 1.1072032975789625e-05, '00:00']\n",
      "[51, 1.0435651347506791e-05, 1.1072032975789625e-05, '00:00']\n",
      "[52, 9.884000974125229e-06, 8.965429515228607e-06, '00:00']\n",
      "[52, 9.884000974125229e-06, 8.965429515228607e-06, '00:00']\n",
      "[53, 9.495981430518441e-06, 9.765755748958327e-06, '00:00']\n",
      "[53, 9.495981430518441e-06, 9.765755748958327e-06, '00:00']\n",
      "[54, 9.19833928492153e-06, 8.818120477371849e-06, '00:00']\n",
      "[54, 9.19833928492153e-06, 8.818120477371849e-06, '00:00']\n",
      "[55, 8.847932804201264e-06, 8.625225746072829e-06, '00:00']\n",
      "[55, 8.847932804201264e-06, 8.625225746072829e-06, '00:00']\n",
      "[56, 8.58108887769049e-06, 8.498644092469476e-06, '00:00']\n",
      "[56, 8.58108887769049e-06, 8.498644092469476e-06, '00:00']\n",
      "[57, 8.421109669143334e-06, 8.392109521082602e-06, '00:00']\n",
      "[57, 8.421109669143334e-06, 8.392109521082602e-06, '00:00']\n",
      "[58, 8.335234269907232e-06, 8.329618140123785e-06, '00:00']\n",
      "[58, 8.335234269907232e-06, 8.329618140123785e-06, '00:00']\n",
      "[59, 8.286819138447754e-06, 8.321259883814491e-06, '00:00']\n",
      "[59, 8.286819138447754e-06, 8.321259883814491e-06, '00:00']\n",
      "Training took 30.405951203996665 seconds\n"
     ]
    }
   ],
   "source": [
    "import time\n",
    "\n",
    "# we find the time needed for training\n",
    "start = time.perf_counter() # Starts timer\n",
    "learn.fit_one_cycle(60, lr_min)\n",
    "end = time.perf_counter() # Ends timer\n",
    "delta_t = end - start\n",
    "print('Training took', delta_t, 'seconds')"
   ]
  },
  {
   "cell_type": "code",
   "execution_count": 14,
   "id": "vocational-spirituality",
   "metadata": {},
   "outputs": [
    {
     "data": {
      "text/plain": [
       "Text(0, 0.5, 'MSELosses')"
      ]
     },
     "execution_count": 14,
     "metadata": {},
     "output_type": "execute_result"
    },
    {
     "data": {
      "image/png": "[encoded data removed]",
      "text/plain": [
       "<Figure size 432x288 with 1 Axes>"
      ]
     },
     "metadata": {
      "needs_background": "light"
     },
     "output_type": "display_data"
    }
   ],
   "source": [
    "# \n",
    "\n",
    "recorder.plot_loss()\n",
    "plt.title(\"Loss Plot\")\n",
    "plt.xlabel(\"Batch Process\")\n",
    "plt.ylabel(\"MSELosses\")\n",
    "#plt.savefig(os.path.join(save_dir, 'Paper architectureELU Loss Plot.png'))\n"
   ]
  },
  {
   "cell_type": "code",
   "execution_count": 15,
   "id": "together-wales",
   "metadata": {},
   "outputs": [
    {
     "data": {
      "text/plain": [
       "(#1) [8.321259883814491e-06]"
      ]
     },
     "execution_count": 15,
     "metadata": {},
     "output_type": "execute_result"
    }
   ],
   "source": [
    "learn.validate()"
   ]
  },
  {
   "cell_type": "markdown",
   "id": "informative-killing",
   "metadata": {},
   "source": [
    "## Plots"
   ]
  },
  {
   "cell_type": "code",
   "execution_count": 16,
   "id": "sealed-jumping",
   "metadata": {},
   "outputs": [],
   "source": [
    "from scipy.special import inv_boxcox\n",
    "def custom_unnormalize(df):\n",
    "    df['eta'] = df['eta'] * 5\n",
    "    df['phi'] = df['phi'] * 3\n",
    "#     df['E'] = 10**(df['E'])*1000\n",
    "#     df['pt'] = 10**(df['pt'])*1000\n",
    "    df['pt'] = inv_boxcox(df['pt']+mean1, maxlog1)\n",
    "    df['E'] = inv_boxcox((df['E']+mean2)*10, maxlog2)\n",
    "    return df"
   ]
  },
  {
   "cell_type": "markdown",
   "id": "valid-rubber",
   "metadata": {},
   "source": [
    "### Plot of Reconstruted input vs Orignal Input\n",
    "\n",
    "Output of the model on the test data is obtained and then it is unnormalised."
   ]
  },
  {
   "cell_type": "code",
   "execution_count": 17,
   "id": "healthy-senior",
   "metadata": {},
   "outputs": [
    {
     "name": "stdout",
     "output_type": "stream",
     "text": [
      "R2 of  E 0.9996539536756623\n",
      "R2 of  pt 0.9997713292427537\n",
      "R2 of  eta 0.9999296111509338\n",
      "R2 of  phi 0.9999798519143719\n"
     ]
    },
    {
     "data": {
      "image/png": "[encoded data removed]",
      "text/plain": [
       "<Figure size 432x288 with 1 Axes>"
      ]
     },
     "metadata": {
      "needs_background": "light"
     },
     "output_type": "display_data"
    },
    {
     "data": {
      "image/png": "[encoded data removed]",
      "text/plain": [
       "<Figure size 432x288 with 1 Axes>"
      ]
     },
     "metadata": {
      "needs_background": "light"
     },
     "output_type": "display_data"
    },
    {
     "data": {
      "image/png": "[encoded data removed]",
      "text/plain": [
       "<Figure size 432x288 with 1 Axes>"
      ]
     },
     "metadata": {
      "needs_background": "light"
     },
     "output_type": "display_data"
    },
    {
     "data": {
      "image/png": "[encoded data removed]",
      "text/plain": [
       "<Figure size 432x288 with 1 Axes>"
      ]
     },
     "metadata": {
      "needs_background": "light"
     },
     "output_type": "display_data"
    }
   ],
   "source": [
    "from sklearn.metrics import r2_score\n",
    "\n",
    "plt.close('all')\n",
    "unit_list = ['[GeV]', '[rad]', '[rad]', '[GeV]']\n",
    "variable_list = [r'$p_T$', r'$\\eta$', r'$\\phi$', r'$E$']\n",
    "line_style = ['--', '-']\n",
    "colors = ['orange', 'c']\n",
    "markers = ['*', 's']\n",
    "\n",
    "model.to('cpu')\n",
    "\n",
    "save = True # Option to save figure\n",
    "\n",
    "# Histograms\n",
    "idxs = (0, len(test))  # Choose events to compare\n",
    "data = torch.tensor(test[idxs[0]:idxs[1]].values, dtype=torch.float)\n",
    "#data = torch.tensor(test[idxs[0]:idxs[1]].values, dtype=torch.float).double()\n",
    "pred = model(data)\n",
    "pred = pred.detach().numpy()\n",
    "data = data.detach().numpy()\n",
    "\n",
    "data_df = custom_unnormalize(pd.DataFrame(data, columns=test.columns))\n",
    "pred_df = custom_unnormalize(pd.DataFrame(pred, columns=test.columns))\n",
    "\n",
    "unnormalized_data_df = data_df\n",
    "unnormalized_pred_df = pred_df    \n",
    "    \n",
    "alph = 0.8\n",
    "n_bins = 200\n",
    "for kk in np.arange(4):\n",
    "    plt.figure()\n",
    "    print(\"R2 of \", test.columns[kk], r2_score(unnormalized_data_df[test.columns[kk]], unnormalized_pred_df[test.columns[kk]]))\n",
    "    n_hist_data, bin_edges, _ = plt.hist(unnormalized_data_df[test.columns[kk]], color=colors[1], label='Input', alpha=1, bins=n_bins)\n",
    "    n_hist_pred, _, _ = plt.hist(unnormalized_pred_df[test.columns[kk]], color=colors[0], label='Output', alpha=alph, bins=bin_edges)\n",
    "    plt.suptitle(test.columns[kk])\n",
    "    plt.xlabel(test.columns[kk])\n",
    "    plt.ylabel('Number of events')\n",
    "    # ms.sciy()\n",
    "    plt.yscale('log')\n",
    "    if save:\n",
    "        plt.savefig(os.path.join(save_dir,test.columns[kk]+'__NormalisedData_TanhNoInit.png'))\n",
    "    plt.legend()"
   ]
  },
  {
   "cell_type": "markdown",
   "id": "shaped-destiny",
   "metadata": {},
   "source": [
    "### Plot of Residuals"
   ]
  },
  {
   "cell_type": "code",
   "execution_count": 18,
   "id": "adjustable-silence",
   "metadata": {
    "tags": []
   },
   "outputs": [
    {
     "name": "stdout",
     "output_type": "stream",
     "text": [
      "-8.087223e-06\n"
     ]
    },
    {
     "data": {
      "image/png": "[encoded data removed]",
      "text/plain": [
       "<Figure size 432x288 with 1 Axes>"
      ]
     },
     "metadata": {
      "needs_background": "light"
     },
     "output_type": "display_data"
    },
    {
     "name": "stdout",
     "output_type": "stream",
     "text": [
      "0.02828321\n"
     ]
    },
    {
     "data": {
      "image/png": "[encoded data removed]",
      "text/plain": [
       "<Figure size 432x288 with 1 Axes>"
      ]
     },
     "metadata": {
      "needs_background": "light"
     },
     "output_type": "display_data"
    },
    {
     "name": "stdout",
     "output_type": "stream",
     "text": [
      "-0.00038096835\n"
     ]
    },
    {
     "data": {
      "image/png": "[encoded data removed]",
      "text/plain": [
       "<Figure size 432x288 with 1 Axes>"
      ]
     },
     "metadata": {
      "needs_background": "light"
     },
     "output_type": "display_data"
    },
    {
     "name": "stdout",
     "output_type": "stream",
     "text": [
      "0.0002399049\n"
     ]
    },
    {
     "data": {
      "image/png": "[encoded data removed]",
      "text/plain": [
       "<Figure size 432x288 with 1 Axes>"
      ]
     },
     "metadata": {
      "needs_background": "light"
     },
     "output_type": "display_data"
    }
   ],
   "source": [
    "from scipy import stats\n",
    "\n",
    "def find_diff(pred, data):\n",
    "    diff = (pred-data)\n",
    "    for i in test.columns:\n",
    "        diff[i] = diff[i]/data[i]\n",
    "    return diff\n",
    "\n",
    "diff = find_diff(unnormalized_pred_df, unnormalized_data_df)\n",
    "mean = diff.mean()\n",
    "mean_diff = stats.sem(diff)\n",
    "std = diff.std()\n",
    "std_error = diff.std(ddof=0) / np.sqrt(2*len(diff))\n",
    "\n",
    "unit_list = ['[GeV)]', '[rad]', '[rad]', '[GeV]']\n",
    "variable_list = [r'$p_T$', r'$\\eta$', r'$\\phi$', r'$E$']\n",
    "\n",
    "branches=[\"pt\",\"eta\",\"phi\",\"E\"]\n",
    "\n",
    "n_bins = 100\n",
    "\n",
    "props = dict(boxstyle='round', facecolor='wheat', alpha=0.5)\n",
    "\n",
    "for kk in range(0,4):\n",
    "    _, ax = plt.subplots()\n",
    "    print(mean[branches[kk]])\n",
    "    n_hist_data, bin_edges, _ = plt.hist(diff[branches[kk]], label='Input', alpha=0.8, bins=100, range=(-0.01, 0.01))\n",
    "    plt.xlabel(xlabel=variable_list[kk] + ' ' + unit_list[kk])\n",
    "    plt.ylabel('# of events')\n",
    "    plt.title('Residulal of '+ branches[kk])\n",
    "    ax.text(0.67, 0.85, \"Mean: \"+str(mean[kk])+\" +/-\"+str(mean_diff[kk])+\"\\nStd: \"+str(std[kk]) + \" +/-\"+str(std_error[kk]), horizontalalignment='center',\n",
    "      verticalalignment='center', transform=ax.transAxes, bbox=props)\n",
    "    plt.savefig(os.path.join(save_dir,\"Resuidal of \"+branches[kk]+'__NormalisedData_TanhNoInit.png'))\n",
    "    plt.show()"
   ]
  },
  {
   "cell_type": "code",
   "execution_count": 19,
   "id": "secure-habitat",
   "metadata": {
    "tags": []
   },
   "outputs": [
    {
     "data": {
      "text/html": [
       "<div>\n",
       "<style scoped>\n",
       "    .dataframe tbody tr th:only-of-type {\n",
       "        vertical-align: middle;\n",
       "    }\n",
       "\n",
       "    .dataframe tbody tr th {\n",
       "        vertical-align: top;\n",
       "    }\n",
       "\n",
       "    .dataframe thead th {\n",
       "        text-align: right;\n",
       "    }\n",
       "</style>\n",
       "<table border=\"1\" class=\"dataframe\">\n",
       "  <thead>\n",
       "    <tr style=\"text-align: right;\">\n",
       "      <th></th>\n",
       "      <th>E</th>\n",
       "      <th>pt</th>\n",
       "      <th>eta</th>\n",
       "      <th>phi</th>\n",
       "    </tr>\n",
       "  </thead>\n",
       "  <tbody>\n",
       "    <tr>\n",
       "      <th>0</th>\n",
       "      <td>-0.015937</td>\n",
       "      <td>0.000917</td>\n",
       "      <td>0.001692</td>\n",
       "      <td>0.008187</td>\n",
       "    </tr>\n",
       "    <tr>\n",
       "      <th>1</th>\n",
       "      <td>-0.000131</td>\n",
       "      <td>-0.007333</td>\n",
       "      <td>-0.023196</td>\n",
       "      <td>-0.041458</td>\n",
       "    </tr>\n",
       "    <tr>\n",
       "      <th>2</th>\n",
       "      <td>0.008010</td>\n",
       "      <td>-0.005799</td>\n",
       "      <td>0.000509</td>\n",
       "      <td>0.003309</td>\n",
       "    </tr>\n",
       "    <tr>\n",
       "      <th>3</th>\n",
       "      <td>-0.001046</td>\n",
       "      <td>0.007820</td>\n",
       "      <td>-0.617930</td>\n",
       "      <td>-0.007755</td>\n",
       "    </tr>\n",
       "    <tr>\n",
       "      <th>4</th>\n",
       "      <td>0.007651</td>\n",
       "      <td>-0.007747</td>\n",
       "      <td>0.156121</td>\n",
       "      <td>0.003266</td>\n",
       "    </tr>\n",
       "  </tbody>\n",
       "</table>\n",
       "</div>"
      ],
      "text/plain": [
       "          E        pt       eta       phi\n",
       "0 -0.015937  0.000917  0.001692  0.008187\n",
       "1 -0.000131 -0.007333 -0.023196 -0.041458\n",
       "2  0.008010 -0.005799  0.000509  0.003309\n",
       "3 -0.001046  0.007820 -0.617930 -0.007755\n",
       "4  0.007651 -0.007747  0.156121  0.003266"
      ]
     },
     "execution_count": 19,
     "metadata": {},
     "output_type": "execute_result"
    }
   ],
   "source": [
    "diff.head()"
   ]
  },
  {
   "cell_type": "markdown",
   "id": "convinced-accused",
   "metadata": {},
   "source": [
    "## Corelation of Residuals"
   ]
  },
  {
   "cell_type": "code",
   "execution_count": 20,
   "id": "mysterious-vinyl",
   "metadata": {},
   "outputs": [
    {
     "data": {
      "text/plain": [
       "<AxesSubplot:>"
      ]
     },
     "execution_count": 20,
     "metadata": {},
     "output_type": "execute_result"
    },
    {
     "data": {
      "image/png": "[encoded data removed]",
      "text/plain": [
       "<Figure size 432x432 with 2 Axes>"
      ]
     },
     "metadata": {},
     "output_type": "display_data"
    }
   ],
   "source": [
    "import seaborn as sns\n",
    "import matplotlib.pyplot as plt\n",
    "\n",
    "sns.set_theme(style=\"white\")\n",
    "\n",
    "# Compute the correlation matrix\n",
    "corr = diff.corr()\n",
    "\n",
    "# Generate a mask for the upper triangle\n",
    "mask = np.triu(np.ones_like(corr, dtype=bool))\n",
    "\n",
    "# Set up the matplotlib figure\n",
    "f, ax = plt.subplots(figsize=(6, 6))\n",
    "\n",
    "# Generate a custom diverging colormap\n",
    "cmap = sns.diverging_palette(220, 20, as_cmap=True)\n",
    "\n",
    "# Draw the heatmap with the mask and correct aspect ratio\n",
    "sns.heatmap(corr, mask=mask, cmap=cmap, vmax=None, center=0,\n",
    "            square=True, linewidths=.5, cbar_kws={\"shrink\": .5})"
   ]
  },
  {
   "cell_type": "markdown",
   "id": "diagnostic-butler",
   "metadata": {},
   "source": []
  },
  {
   "cell_type": "code",
   "execution_count": 21,
   "id": "short-sister",
   "metadata": {},
   "outputs": [
    {
     "ename": "NameError",
     "evalue": "name 'residuals' is not defined",
     "output_type": "error",
     "traceback": [
      "\u001b[0;31m---------------------------------------------------------------------------\u001b[0m",
      "\u001b[0;31mNameError\u001b[0m                                 Traceback (most recent call last)",
      "\u001b[0;32m<ipython-input-21-f5509c30f4d8>\u001b[0m in \u001b[0;36m<module>\u001b[0;34m\u001b[0m\n\u001b[1;32m      8\u001b[0m \u001b[0;34m\u001b[0m\u001b[0m\n\u001b[1;32m      9\u001b[0m \u001b[0;32mfor\u001b[0m \u001b[0mi_group\u001b[0m\u001b[0;34m,\u001b[0m \u001b[0mgroup\u001b[0m \u001b[0;32min\u001b[0m \u001b[0menumerate\u001b[0m\u001b[0;34m(\u001b[0m\u001b[0mcorner_groups\u001b[0m\u001b[0;34m)\u001b[0m\u001b[0;34m:\u001b[0m\u001b[0;34m\u001b[0m\u001b[0;34m\u001b[0m\u001b[0m\n\u001b[0;32m---> 10\u001b[0;31m     \u001b[0mgroup_df\u001b[0m \u001b[0;34m=\u001b[0m \u001b[0mresiduals\u001b[0m\u001b[0;34m[\u001b[0m\u001b[0mgroup\u001b[0m\u001b[0;34m]\u001b[0m\u001b[0;34m\u001b[0m\u001b[0;34m\u001b[0m\u001b[0m\n\u001b[0m\u001b[1;32m     11\u001b[0m \u001b[0;34m\u001b[0m\u001b[0m\n\u001b[1;32m     12\u001b[0m     \u001b[0;31m# Compute correlations\u001b[0m\u001b[0;34m\u001b[0m\u001b[0;34m\u001b[0m\u001b[0;34m\u001b[0m\u001b[0m\n",
      "\u001b[0;31mNameError\u001b[0m: name 'residuals' is not defined"
     ]
    }
   ],
   "source": [
    "from corner import corner\n",
    "latent_dim = 20\n",
    "save = True\n",
    "\n",
    "corner_groups = [\n",
    "    ['pt', 'eta', 'phi', 'E']\n",
    "]\n",
    "\n",
    "for i_group, group in enumerate(corner_groups):\n",
    "    group_df = residuals[group]\n",
    "    \n",
    "    # Compute correlations\n",
    "    corr = group_df.corr()\n",
    "\n",
    "    # Generate a mask for the upper triangle\n",
    "    mask = np.zeros_like(corr, dtype=np.bool)\n",
    "    mask[np.triu_indices_from(mask)] = True\n",
    "\n",
    "    # Generate a custom diverging colormap\n",
    "    cmap = sns.diverging_palette(10, 220, as_cmap=True)\n",
    "\n",
    "    norm = mpl.colors.Normalize(vmin=-1, vmax=1, clip=False)\n",
    "    mappable = mpl.cm.ScalarMappable(norm=norm, cmap=cmap)\n",
    "    # Plot heatmap\n",
    "    mpl.rcParams['xtick.labelsize'] = 12\n",
    "    mpl.rcParams['ytick.labelsize'] = 12\n",
    "    sns.heatmap(corr, mask=mask, cmap=cmap, vmax=None, center=0,\n",
    "                square=True, linewidths=.5, cbar_kws={\"shrink\": .5})\n",
    "    plt.subplots_adjust(left=.23, bottom=.30, top=.99, right=.99)\n",
    "\n",
    "    label_kwargs = {'fontsize': 20, 'rotation': -15, 'ha': 'left'}\n",
    "    title_kwargs = {\"fontsize\": 8}\n",
    "    mpl.rcParams['lines.linewidth'] = 1\n",
    "    mpl.rcParams['xtick.labelsize'] = 10\n",
    "    mpl.rcParams['ytick.labelsize'] = 10\n",
    "    group_arr = group_df.values\n",
    "    qs = np.quantile(group_arr, q=[.0025, .9925], axis=0)\n",
    "    ndim = qs.shape[1]\n",
    "\n",
    "    ranges = [tuple(qs[:, kk]) for kk in np.arange(ndim)]\n",
    "\n",
    "    ranges = [(-0.2, 0.2)]*ndim #Fixed-range\n",
    "    figure = corner(group_arr, range=ranges, plot_density=True, plot_contours=True, no_fill_contours=False, #range=[range for i in np.arange(ndim)],\n",
    "                    bins=50, labels=group, label_kwargs=label_kwargs, #truths=[0 for kk in np.arange(qs.shape[1])],\n",
    "                    show_titles=True, title_kwargs=title_kwargs, quantiles=(0.16, 0.84),\n",
    "                    levels=(1 - np.exp(-0.5), .90), fill_contours=False, title_fmt='.1e')\n",
    "\n",
    "    # # Extract the axes\n",
    "    axes = np.array(figure.axes).reshape((ndim, ndim))\n",
    "    # Loop over the diagonal\n",
    "    linecol = 'r'\n",
    "    linstyl = 'dashed'\n",
    "\n",
    "    for xi in range(ndim):\n",
    "        ax = axes[0, xi]\n",
    "        # Set xlabel coords\n",
    "        ax.xaxis.set_label_coords(.5, -.8)\n",
    "    for yi in range(ndim):\n",
    "        ax = axes[yi, 0]\n",
    "        # Set ylabel coords\n",
    "        ax.yaxis.set_label_coords(-.4, .5)\n",
    "        ax.set_ylabel(ax.get_ylabel(), rotation=80, ha='right')\n",
    "    # Loop over the histograms\n",
    "    for yi in range(ndim):\n",
    "        for xi in range(yi):\n",
    "            ax = axes[yi, xi]\n",
    "            # Set face color according to correlation\n",
    "            ax.set_facecolor(color=mappable.to_rgba(corr.values[yi, xi]))\n",
    "    cax = figure.add_axes([.87, .4, .04, 0.55])\n",
    "    cbar = plt.colorbar(mappable, cax=cax, format='%.1f', ticks=np.arange(-1., 1.1, 0.2))\n",
    "    cbar.ax.set_ylabel('Correlation', fontsize=20)\n",
    "\n",
    "    if i_group == 6:\n",
    "        plt.subplots_adjust(left=0.13, bottom=0.21, right=.82)\n",
    "    else:\n",
    "        plt.subplots_adjust(left=0.13, bottom=0.20, right=.83)\n",
    "    if save:\n",
    "        fig_name = 'slide_corner_%d_group%d' % (20, i_group)\n",
    "        plt.savefig(os.path.join(save_dir, fig_name))\n",
    "\n",
    "if not save:\n",
    "    plt.show()"
   ]
  }
 ],
 "metadata": {
  "kernelspec": {
   "display_name": "Python 3",
   "language": "python",
   "name": "python3"
  },
  "language_info": {
   "codemirror_mode": {
    "name": "ipython",
    "version": 3
   },
   "file_extension": ".py",
   "mimetype": "text/x-python",
   "name": "python",
   "nbconvert_exporter": "python",
   "pygments_lexer": "ipython3",
   "version": "3.8.8"
  }
 },
 "nbformat": 4,
 "nbformat_minor": 5
}
