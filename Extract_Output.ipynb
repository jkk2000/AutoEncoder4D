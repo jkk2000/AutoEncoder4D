{
 "cells": [
  {
   "cell_type": "markdown",
   "id": "miniature-hampshire",
   "metadata": {},
   "source": [
    "# Extract jets from input file\n",
    "This notebook is to extract \"E, pt, eta and phi\" values from the input and write it to the output"
   ]
  },
  {
   "cell_type": "code",
   "execution_count": 5,
   "id": "divine-demonstration",
   "metadata": {},
   "outputs": [],
   "source": [
    "\n",
    "import sys\n",
    "input_csv = \"/home/jason/AutoEncoder/input.csv\"\n",
    "output_csv = \"/home/jason/AutoEncoder/extracted_input.csv\"\n",
    "\n",
    "objects = []\n",
    "m  = 0\n",
    "csv = open(input_csv)\n",
    "\n",
    "# We iterate over each event\n",
    "for line in csv: \n",
    "    if \";\" in line:\n",
    "        split = line.split(\";\")\n",
    "        for k in range(3, len(split)):\n",
    "            # We iterate over each particle/jet\n",
    "            new=split[k].split(\",\")\n",
    "            if new[0] == \"j\":\n",
    "                # if a particle is a jet, then we add each element to objects\n",
    "                hold = []\n",
    "                for l in range(1,len(new)):\n",
    "                    hold.append(new[l])\n",
    "                objects.append(hold)\n",
    "                m = m + 1\n",
    "csv.close()\n",
    "\n",
    "# Open the output file\n",
    "csv = open(output_csv,\"w\")\n",
    "# Write the Labels first\n",
    "csv.write(\"E,pt,eta,phi\\n\")\n",
    "# Iterate over the objects and write it to the output file\n",
    "for k in range(0,m):\n",
    "    linewrite = \"\"\n",
    "    for i in range(0,4):\n",
    "        # Write the elements of objects and add \",\" as the delimiter \n",
    "        linewrite=linewrite+str(objects[k][i])+\",\"\n",
    "    csv.write(linewrite[:-1]+\"\\n\")\n",
    "csv.close()"
   ]
  },
  {
   "cell_type": "code",
   "execution_count": null,
   "id": "double-alfred",
   "metadata": {},
   "outputs": [],
   "source": []
  }
 ],
 "metadata": {
  "kernelspec": {
   "display_name": "Python 3",
   "language": "python",
   "name": "python3"
  },
  "language_info": {
   "codemirror_mode": {
    "name": "ipython",
    "version": 3
   },
   "file_extension": ".py",
   "mimetype": "text/x-python",
   "name": "python",
   "nbconvert_exporter": "python",
   "pygments_lexer": "ipython3",
   "version": "3.8.8"
  }
 },
 "nbformat": 4,
 "nbformat_minor": 5
}
